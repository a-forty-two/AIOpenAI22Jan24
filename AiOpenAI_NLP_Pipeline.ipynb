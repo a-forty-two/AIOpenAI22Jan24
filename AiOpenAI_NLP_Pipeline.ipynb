{
  "nbformat": 4,
  "nbformat_minor": 0,
  "metadata": {
    "colab": {
      "provenance": [],
      "authorship_tag": "ABX9TyPiewe+qz8vYn2BxStYCUqI",
      "include_colab_link": true
    },
    "kernelspec": {
      "name": "python3",
      "display_name": "Python 3"
    }
  },
  "cells": [
    {
      "cell_type": "markdown",
      "metadata": {
        "id": "view-in-github",
        "colab_type": "text"
      },
      "source": [
        "<a href=\"https://colab.research.google.com/github/a-forty-two/AIOpenAI22Jan24/blob/main/AiOpenAI_NLP_Pipeline.ipynb\" target=\"_parent\"><img src=\"https://colab.research.google.com/assets/colab-badge.svg\" alt=\"Open In Colab\"/></a>"
      ]
    },
    {
      "cell_type": "code",
      "metadata": {
        "id": "dxy4CLtKTFqR"
      },
      "source": [
        "# LANGUAGES\n",
        "# MACHINE LEARNING works only for NUMBERS\n",
        "# y= weights*x + bias\n",
        "# How to convert words/letters/sentences into mathematical entities\n",
        "# Numbers, Vectors, Tensors\n",
        "import spacy # LIBRARIES helping with NLP-> Spacy, TExtacy, NLTK\n",
        "\n",
        "# download DICTIONARY -> language EXPERTS, we don't create a new dictionary from scratch\n",
        "dictionary = spacy.load('en_core_web_sm')\n"
      ],
      "execution_count": 18,
      "outputs": []
    },
    {
      "cell_type": "code",
      "metadata": {
        "id": "eHLfmkM3VHV1"
      },
      "source": [
        "# INSTALLING on local machine or web server\n",
        "#!python --version # (check if version is 3.6), if not, uninstall and reinstall\n",
        "# python -m spacy download en\n",
        "# python -m spacy download en_core_web_sm"
      ],
      "execution_count": 2,
      "outputs": []
    },
    {
      "cell_type": "code",
      "metadata": {
        "id": "O-5Fu_OWWkgE",
        "colab": {
          "base_uri": "https://localhost:8080/",
          "height": 35
        },
        "outputId": "27af5819-3184-4a21-de15-c33d03af5444"
      },
      "source": [
        "text = \"\"\" 'Mary had a little lamb, little lamb, little lamb!'\n",
        "Grass is green, sky is blue. \"What did you say?\"\n",
        "\n",
        "  'I am not present here', she said.\n",
        "\"\"\"\n",
        "tokens = dictionary(text)\n",
        "# TOKENS? -> TOkens are broken down pieces of text\n",
        "# DOCUMENT TOKEN, PAGES-> Paragraphs-> SEntences -> WORDS -> LETTERS\n",
        "# ALL ABOVE ARE TOKENS\n",
        "# COMPILER DESIGN -> BREAK down things into TREES and parse the tree\n",
        "\n",
        "text[-5]"
      ],
      "execution_count": 20,
      "outputs": [
        {
          "output_type": "execute_result",
          "data": {
            "text/plain": [
              "'a'"
            ],
            "application/vnd.google.colaboratory.intrinsic+json": {
              "type": "string"
            }
          },
          "metadata": {},
          "execution_count": 20
        }
      ]
    },
    {
      "cell_type": "code",
      "metadata": {
        "id": "bDDx-HANX5Cc",
        "colab": {
          "base_uri": "https://localhost:8080/"
        },
        "outputId": "cb6482cf-3093-4106-9137-bdec6ec188b6"
      },
      "source": [
        "tokens[-2] # THIS ISN't a STRING anymore, this is a LIST of tokens\n",
        "# END of a sentence,\n",
        "# or word will be used to break down complex structure into tokens"
      ],
      "execution_count": 21,
      "outputs": [
        {
          "output_type": "execute_result",
          "data": {
            "text/plain": [
              "."
            ]
          },
          "metadata": {},
          "execution_count": 21
        }
      ]
    },
    {
      "cell_type": "code",
      "metadata": {
        "id": "qKfw2_2BX9_m"
      },
      "source": [
        "#dir(tokens[0])\n"
      ],
      "execution_count": 5,
      "outputs": []
    },
    {
      "cell_type": "code",
      "metadata": {
        "id": "lu_s54NrYzdz",
        "colab": {
          "base_uri": "https://localhost:8080/"
        },
        "outputId": "57341f4b-3173-4631-a62b-717675d39cf6"
      },
      "source": [
        "tokens[0].shape # I AM EXPECTING a list of numbers, representing vector"
      ],
      "execution_count": 22,
      "outputs": [
        {
          "output_type": "execute_result",
          "data": {
            "text/plain": [
              "8532415787641010193"
            ]
          },
          "metadata": {},
          "execution_count": 22
        }
      ]
    },
    {
      "cell_type": "code",
      "metadata": {
        "id": "_2cEH-sQU4Pa",
        "colab": {
          "base_uri": "https://localhost:8080/",
          "height": 258
        },
        "outputId": "376e4fb5-cc97-4a64-f88d-0d44f1511af7"
      },
      "source": [
        "# DEPENDENCY TREE\n",
        "import spacy\n",
        "nlp = spacy.load('en_core_web_sm')\n",
        "text = \"Peter is eating a sandwich\" # LEVERS\n",
        "tokens = nlp(text)\n",
        "from spacy import displacy # dependency trees\n",
        "displacy.render(tokens, style='dep', jupyter=True, options={'distance':100})"
      ],
      "execution_count": 7,
      "outputs": [
        {
          "output_type": "display_data",
          "data": {
            "text/plain": [
              "<IPython.core.display.HTML object>"
            ],
            "text/html": [
              "<span class=\"tex2jax_ignore\"><svg xmlns=\"http://www.w3.org/2000/svg\" xmlns:xlink=\"http://www.w3.org/1999/xlink\" xml:lang=\"en\" id=\"a78c99fd114b439ab79ba2da175514a1-0\" class=\"displacy\" width=\"550\" height=\"237.0\" direction=\"ltr\" style=\"max-width: none; height: 237.0px; color: #000000; background: #ffffff; font-family: Arial; direction: ltr\">\n",
              "<text class=\"displacy-token\" fill=\"currentColor\" text-anchor=\"middle\" y=\"147.0\">\n",
              "    <tspan class=\"displacy-word\" fill=\"currentColor\" x=\"50\">Peter</tspan>\n",
              "    <tspan class=\"displacy-tag\" dy=\"2em\" fill=\"currentColor\" x=\"50\">PROPN</tspan>\n",
              "</text>\n",
              "\n",
              "<text class=\"displacy-token\" fill=\"currentColor\" text-anchor=\"middle\" y=\"147.0\">\n",
              "    <tspan class=\"displacy-word\" fill=\"currentColor\" x=\"150\">is</tspan>\n",
              "    <tspan class=\"displacy-tag\" dy=\"2em\" fill=\"currentColor\" x=\"150\">AUX</tspan>\n",
              "</text>\n",
              "\n",
              "<text class=\"displacy-token\" fill=\"currentColor\" text-anchor=\"middle\" y=\"147.0\">\n",
              "    <tspan class=\"displacy-word\" fill=\"currentColor\" x=\"250\">eating</tspan>\n",
              "    <tspan class=\"displacy-tag\" dy=\"2em\" fill=\"currentColor\" x=\"250\">VERB</tspan>\n",
              "</text>\n",
              "\n",
              "<text class=\"displacy-token\" fill=\"currentColor\" text-anchor=\"middle\" y=\"147.0\">\n",
              "    <tspan class=\"displacy-word\" fill=\"currentColor\" x=\"350\">a</tspan>\n",
              "    <tspan class=\"displacy-tag\" dy=\"2em\" fill=\"currentColor\" x=\"350\">DET</tspan>\n",
              "</text>\n",
              "\n",
              "<text class=\"displacy-token\" fill=\"currentColor\" text-anchor=\"middle\" y=\"147.0\">\n",
              "    <tspan class=\"displacy-word\" fill=\"currentColor\" x=\"450\">sandwich</tspan>\n",
              "    <tspan class=\"displacy-tag\" dy=\"2em\" fill=\"currentColor\" x=\"450\">NOUN</tspan>\n",
              "</text>\n",
              "\n",
              "<g class=\"displacy-arrow\">\n",
              "    <path class=\"displacy-arc\" id=\"arrow-a78c99fd114b439ab79ba2da175514a1-0-0\" stroke-width=\"2px\" d=\"M70,102.0 C70,2.0 250.0,2.0 250.0,102.0\" fill=\"none\" stroke=\"currentColor\"/>\n",
              "    <text dy=\"1.25em\" style=\"font-size: 0.8em; letter-spacing: 1px\">\n",
              "        <textPath xlink:href=\"#arrow-a78c99fd114b439ab79ba2da175514a1-0-0\" class=\"displacy-label\" startOffset=\"50%\" side=\"left\" fill=\"currentColor\" text-anchor=\"middle\">nsubj</textPath>\n",
              "    </text>\n",
              "    <path class=\"displacy-arrowhead\" d=\"M70,104.0 L62,92.0 78,92.0\" fill=\"currentColor\"/>\n",
              "</g>\n",
              "\n",
              "<g class=\"displacy-arrow\">\n",
              "    <path class=\"displacy-arc\" id=\"arrow-a78c99fd114b439ab79ba2da175514a1-0-1\" stroke-width=\"2px\" d=\"M170,102.0 C170,52.0 245.0,52.0 245.0,102.0\" fill=\"none\" stroke=\"currentColor\"/>\n",
              "    <text dy=\"1.25em\" style=\"font-size: 0.8em; letter-spacing: 1px\">\n",
              "        <textPath xlink:href=\"#arrow-a78c99fd114b439ab79ba2da175514a1-0-1\" class=\"displacy-label\" startOffset=\"50%\" side=\"left\" fill=\"currentColor\" text-anchor=\"middle\">aux</textPath>\n",
              "    </text>\n",
              "    <path class=\"displacy-arrowhead\" d=\"M170,104.0 L162,92.0 178,92.0\" fill=\"currentColor\"/>\n",
              "</g>\n",
              "\n",
              "<g class=\"displacy-arrow\">\n",
              "    <path class=\"displacy-arc\" id=\"arrow-a78c99fd114b439ab79ba2da175514a1-0-2\" stroke-width=\"2px\" d=\"M370,102.0 C370,52.0 445.0,52.0 445.0,102.0\" fill=\"none\" stroke=\"currentColor\"/>\n",
              "    <text dy=\"1.25em\" style=\"font-size: 0.8em; letter-spacing: 1px\">\n",
              "        <textPath xlink:href=\"#arrow-a78c99fd114b439ab79ba2da175514a1-0-2\" class=\"displacy-label\" startOffset=\"50%\" side=\"left\" fill=\"currentColor\" text-anchor=\"middle\">det</textPath>\n",
              "    </text>\n",
              "    <path class=\"displacy-arrowhead\" d=\"M370,104.0 L362,92.0 378,92.0\" fill=\"currentColor\"/>\n",
              "</g>\n",
              "\n",
              "<g class=\"displacy-arrow\">\n",
              "    <path class=\"displacy-arc\" id=\"arrow-a78c99fd114b439ab79ba2da175514a1-0-3\" stroke-width=\"2px\" d=\"M270,102.0 C270,2.0 450.0,2.0 450.0,102.0\" fill=\"none\" stroke=\"currentColor\"/>\n",
              "    <text dy=\"1.25em\" style=\"font-size: 0.8em; letter-spacing: 1px\">\n",
              "        <textPath xlink:href=\"#arrow-a78c99fd114b439ab79ba2da175514a1-0-3\" class=\"displacy-label\" startOffset=\"50%\" side=\"left\" fill=\"currentColor\" text-anchor=\"middle\">dobj</textPath>\n",
              "    </text>\n",
              "    <path class=\"displacy-arrowhead\" d=\"M450.0,104.0 L458.0,92.0 442.0,92.0\" fill=\"currentColor\"/>\n",
              "</g>\n",
              "</svg></span>"
            ]
          },
          "metadata": {}
        }
      ]
    },
    {
      "cell_type": "code",
      "metadata": {
        "id": "1LNF5g8satrb",
        "colab": {
          "base_uri": "https://localhost:8080/"
        },
        "outputId": "13fef5b1-4619-44c9-cb07-f5534cc83b1a"
      },
      "source": [
        "# HUGE amount of text -> COPY paste huge amoung of text on your favorite topic\n",
        "# and save as txt -> then upload in google colab\n",
        "import spacy\n",
        "f = open('text.txt','rt')\n",
        "content = f.read()\n",
        "nlp = spacy.load('en_core_web_sm')\n",
        "tokens = nlp(content) # TEXT-> TOKENS-> POS tagging is complete as per SPACY\n",
        "len(tokens)\n",
        "# Here we saw 2 kind of errors -> ENCODING ERRORS\n",
        "# ENC/DECODING : https://www.geeksforgeeks.org/python-strings-decode-method/\n",
        "\n"
      ],
      "execution_count": 23,
      "outputs": [
        {
          "output_type": "execute_result",
          "data": {
            "text/plain": [
              "4330"
            ]
          },
          "metadata": {},
          "execution_count": 23
        }
      ]
    },
    {
      "cell_type": "code",
      "metadata": {
        "id": "yj-jsMLsYs2V",
        "colab": {
          "base_uri": "https://localhost:8080/"
        },
        "outputId": "062a85c2-422b-4167-8a53-87aee74428ed"
      },
      "source": [
        "for i in range(50):\n",
        "  if(tokens[i].tag_ == 'NNS'): # PLURAL NOUNS, Named ENtity Recognition\n",
        "    print(tokens[i].text)"
      ],
      "execution_count": 24,
      "outputs": [
        {
          "output_type": "stream",
          "name": "stdout",
          "text": [
            "crustaceans\n",
            "Stomatopods\n",
            "members\n",
            "years\n"
          ]
        }
      ]
    },
    {
      "cell_type": "code",
      "metadata": {
        "id": "zVEVwq1dZXD-",
        "colab": {
          "base_uri": "https://localhost:8080/"
        },
        "outputId": "1355d97d-2049-4944-f2eb-cc28ef7978d8"
      },
      "source": [
        "for i in range(1000):\n",
        "  if(tokens[i].tag_ == 'NNS'): # PLURAL NOUNS, Named ENtity Recognition\n",
        "    print(tokens[i].text)"
      ],
      "execution_count": 25,
      "outputs": [
        {
          "output_type": "stream",
          "name": "stdout",
          "text": [
            "crustaceans\n",
            "Stomatopods\n",
            "members\n",
            "years\n",
            "cm\n",
            "cm\n",
            "segments\n",
            "Varieties\n",
            "shades\n",
            "colours\n",
            "species\n",
            "predators\n",
            "habitats\n",
            "species\n",
            "lives\n",
            "burrows\n",
            "locusts\n",
            "killers\n",
            "wounds\n",
            "appendages\n",
            "species\n",
            "clubs\n",
            "others\n",
            "forelimbs\n",
            "species\n",
            "species\n",
            "years\n",
            "creatures\n",
            "formations\n",
            "passageways\n",
            "homes\n",
            "species\n",
            "crustaceans\n",
            "seas\n",
            "species\n",
            "waters\n",
            "burrows\n",
            "categories\n",
            "locations\n",
            "species\n",
            "sediments\n",
            "species\n",
            "burrows\n",
            "substrata\n",
            "habitats\n",
            "burrows\n",
            "sites\n",
            "locations\n",
            "Burrows\n",
            "cavities\n",
            "sites\n",
            "eggs\n",
            "species\n",
            "appendages\n",
            "appendages\n",
            "differences\n",
            "types\n",
            "structures\n",
            "claws\n",
            "subregions\n",
            "spears\n",
            "smashers\n",
            "groups\n",
            "claws\n",
            "Smashers\n",
            "fights\n",
            "meals\n",
            "Spearers\n",
            "appendages\n",
            "spines\n",
            "tips\n",
            "types\n",
            "claws\n",
            "victims\n",
            "smashers\n",
            "weapons\n",
            "speeds\n",
            "bubbles\n",
            "bubbles\n",
            "forces\n",
            "forces\n",
            "newtons\n",
            "Smashers\n",
            "crabs\n",
            "snails\n",
            "oysters\n",
            "molluscs\n",
            "clubs\n"
          ]
        }
      ]
    },
    {
      "cell_type": "code",
      "metadata": {
        "id": "6D6iJTFqgSuC",
        "colab": {
          "base_uri": "https://localhost:8080/"
        },
        "outputId": "c9b57d86-2c52-4c0e-c503-8ad0c23e9655"
      },
      "source": [
        "!ls"
      ],
      "execution_count": 11,
      "outputs": [
        {
          "output_type": "stream",
          "name": "stdout",
          "text": [
            "sample_data  text.txt\n"
          ]
        }
      ]
    },
    {
      "cell_type": "code",
      "metadata": {
        "id": "qSTDXlD6g7EI"
      },
      "source": [
        "# Porter Stemming: https://github.com/jedijulia/porter-stemmer/blob/master/stemmer.py\n",
        "# https://text-processing.com/demo/stem/\n",
        "# https://www.machinelearningplus.com/nlp/lemmatization-examples-python/\n"
      ],
      "execution_count": 12,
      "outputs": []
    },
    {
      "cell_type": "code",
      "metadata": {
        "id": "nro8gEUdlz4k",
        "colab": {
          "base_uri": "https://localhost:8080/"
        },
        "outputId": "6d277840-e384-4c98-a6d0-8cdf6666c0ae"
      },
      "source": [
        "#https://spacy.io/api/annotation\n",
        "for i in range(10):\n",
        "  print(tokens[i].text + \" : \" + tokens[i].tag_ + \" : \"+ str(tokens[i].tag))\n",
        "# properties with and without _ mean that _ is string, without is a number"
      ],
      "execution_count": 26,
      "outputs": [
        {
          "output_type": "stream",
          "name": "stdout",
          "text": [
            "Mantis : NN : 15308085513773655218\n",
            "shrimp : NN : 15308085513773655218\n",
            "are : VBP : 9188597074677201817\n",
            "carnivorous : JJ : 10554686591937588953\n",
            "marine : JJ : 10554686591937588953\n",
            "crustaceans : NNS : 783433942507015291\n",
            "of : IN : 1292078113972184607\n",
            "the : DT : 15267657372422890137\n",
            "order : NN : 15308085513773655218\n",
            "Stomatopoda : NNP : 15794550382381185553\n"
          ]
        }
      ]
    },
    {
      "cell_type": "code",
      "metadata": {
        "id": "HrMlMLBfxi_0",
        "colab": {
          "base_uri": "https://localhost:8080/"
        },
        "outputId": "e24f1dae-cb22-4029-e184-323eee700392"
      },
      "source": [
        "for i in range(20):\n",
        "  if(tokens[i].is_stop == True):\n",
        "    print(tokens[i].text + \" is a stop word!\")\n",
        "  print(tokens[i].text + \" : \" + tokens[i].lemma_)"
      ],
      "execution_count": 28,
      "outputs": [
        {
          "output_type": "stream",
          "name": "stdout",
          "text": [
            "Mantis : mantis\n",
            "shrimp : shrimp\n",
            "are is a stop word!\n",
            "are : be\n",
            "carnivorous : carnivorous\n",
            "marine : marine\n",
            "crustaceans : crustacean\n",
            "of is a stop word!\n",
            "of : of\n",
            "the is a stop word!\n",
            "the : the\n",
            "order : order\n",
            "Stomatopoda : Stomatopoda\n",
            "( : (\n",
            "from is a stop word!\n",
            "from : from\n",
            "Ancient : Ancient\n",
            "Greek : Greek\n",
            "στόμα : στόμα\n",
            "( : (\n",
            "stóma : stóma\n",
            ") : )\n",
            "' : '\n",
            "mouth : mouth\n"
          ]
        }
      ]
    },
    {
      "cell_type": "code",
      "metadata": {
        "id": "qZDUhlGX0FAU",
        "colab": {
          "base_uri": "https://localhost:8080/"
        },
        "outputId": "6f86d664-e2bf-4cf2-9c0f-9d634e3691b5"
      },
      "source": [
        "# Wren and Martin -> English\n",
        "\n",
        "spacy_stopwords = spacy.lang.en.stop_words.STOP_WORDS\n",
        "spacy_stopwords"
      ],
      "execution_count": 29,
      "outputs": [
        {
          "output_type": "execute_result",
          "data": {
            "text/plain": [
              "{\"'d\",\n",
              " \"'ll\",\n",
              " \"'m\",\n",
              " \"'re\",\n",
              " \"'s\",\n",
              " \"'ve\",\n",
              " 'a',\n",
              " 'about',\n",
              " 'above',\n",
              " 'across',\n",
              " 'after',\n",
              " 'afterwards',\n",
              " 'again',\n",
              " 'against',\n",
              " 'all',\n",
              " 'almost',\n",
              " 'alone',\n",
              " 'along',\n",
              " 'already',\n",
              " 'also',\n",
              " 'although',\n",
              " 'always',\n",
              " 'am',\n",
              " 'among',\n",
              " 'amongst',\n",
              " 'amount',\n",
              " 'an',\n",
              " 'and',\n",
              " 'another',\n",
              " 'any',\n",
              " 'anyhow',\n",
              " 'anyone',\n",
              " 'anything',\n",
              " 'anyway',\n",
              " 'anywhere',\n",
              " 'are',\n",
              " 'around',\n",
              " 'as',\n",
              " 'at',\n",
              " 'back',\n",
              " 'be',\n",
              " 'became',\n",
              " 'because',\n",
              " 'become',\n",
              " 'becomes',\n",
              " 'becoming',\n",
              " 'been',\n",
              " 'before',\n",
              " 'beforehand',\n",
              " 'behind',\n",
              " 'being',\n",
              " 'below',\n",
              " 'beside',\n",
              " 'besides',\n",
              " 'between',\n",
              " 'beyond',\n",
              " 'both',\n",
              " 'bottom',\n",
              " 'but',\n",
              " 'by',\n",
              " 'ca',\n",
              " 'call',\n",
              " 'can',\n",
              " 'cannot',\n",
              " 'could',\n",
              " 'did',\n",
              " 'do',\n",
              " 'does',\n",
              " 'doing',\n",
              " 'done',\n",
              " 'down',\n",
              " 'due',\n",
              " 'during',\n",
              " 'each',\n",
              " 'eight',\n",
              " 'either',\n",
              " 'eleven',\n",
              " 'else',\n",
              " 'elsewhere',\n",
              " 'empty',\n",
              " 'enough',\n",
              " 'even',\n",
              " 'ever',\n",
              " 'every',\n",
              " 'everyone',\n",
              " 'everything',\n",
              " 'everywhere',\n",
              " 'except',\n",
              " 'few',\n",
              " 'fifteen',\n",
              " 'fifty',\n",
              " 'first',\n",
              " 'five',\n",
              " 'for',\n",
              " 'former',\n",
              " 'formerly',\n",
              " 'forty',\n",
              " 'four',\n",
              " 'from',\n",
              " 'front',\n",
              " 'full',\n",
              " 'further',\n",
              " 'get',\n",
              " 'give',\n",
              " 'go',\n",
              " 'had',\n",
              " 'has',\n",
              " 'have',\n",
              " 'he',\n",
              " 'hence',\n",
              " 'her',\n",
              " 'here',\n",
              " 'hereafter',\n",
              " 'hereby',\n",
              " 'herein',\n",
              " 'hereupon',\n",
              " 'hers',\n",
              " 'herself',\n",
              " 'him',\n",
              " 'himself',\n",
              " 'his',\n",
              " 'how',\n",
              " 'however',\n",
              " 'hundred',\n",
              " 'i',\n",
              " 'if',\n",
              " 'in',\n",
              " 'indeed',\n",
              " 'into',\n",
              " 'is',\n",
              " 'it',\n",
              " 'its',\n",
              " 'itself',\n",
              " 'just',\n",
              " 'keep',\n",
              " 'last',\n",
              " 'latter',\n",
              " 'latterly',\n",
              " 'least',\n",
              " 'less',\n",
              " 'made',\n",
              " 'make',\n",
              " 'many',\n",
              " 'may',\n",
              " 'me',\n",
              " 'meanwhile',\n",
              " 'might',\n",
              " 'mine',\n",
              " 'more',\n",
              " 'moreover',\n",
              " 'most',\n",
              " 'mostly',\n",
              " 'move',\n",
              " 'much',\n",
              " 'must',\n",
              " 'my',\n",
              " 'myself',\n",
              " \"n't\",\n",
              " 'name',\n",
              " 'namely',\n",
              " 'neither',\n",
              " 'never',\n",
              " 'nevertheless',\n",
              " 'next',\n",
              " 'nine',\n",
              " 'no',\n",
              " 'nobody',\n",
              " 'none',\n",
              " 'noone',\n",
              " 'nor',\n",
              " 'not',\n",
              " 'nothing',\n",
              " 'now',\n",
              " 'nowhere',\n",
              " 'n‘t',\n",
              " 'n’t',\n",
              " 'of',\n",
              " 'off',\n",
              " 'often',\n",
              " 'on',\n",
              " 'once',\n",
              " 'one',\n",
              " 'only',\n",
              " 'onto',\n",
              " 'or',\n",
              " 'other',\n",
              " 'others',\n",
              " 'otherwise',\n",
              " 'our',\n",
              " 'ours',\n",
              " 'ourselves',\n",
              " 'out',\n",
              " 'over',\n",
              " 'own',\n",
              " 'part',\n",
              " 'per',\n",
              " 'perhaps',\n",
              " 'please',\n",
              " 'put',\n",
              " 'quite',\n",
              " 'rather',\n",
              " 're',\n",
              " 'really',\n",
              " 'regarding',\n",
              " 'same',\n",
              " 'say',\n",
              " 'see',\n",
              " 'seem',\n",
              " 'seemed',\n",
              " 'seeming',\n",
              " 'seems',\n",
              " 'serious',\n",
              " 'several',\n",
              " 'she',\n",
              " 'should',\n",
              " 'show',\n",
              " 'side',\n",
              " 'since',\n",
              " 'six',\n",
              " 'sixty',\n",
              " 'so',\n",
              " 'some',\n",
              " 'somehow',\n",
              " 'someone',\n",
              " 'something',\n",
              " 'sometime',\n",
              " 'sometimes',\n",
              " 'somewhere',\n",
              " 'still',\n",
              " 'such',\n",
              " 'take',\n",
              " 'ten',\n",
              " 'than',\n",
              " 'that',\n",
              " 'the',\n",
              " 'their',\n",
              " 'them',\n",
              " 'themselves',\n",
              " 'then',\n",
              " 'thence',\n",
              " 'there',\n",
              " 'thereafter',\n",
              " 'thereby',\n",
              " 'therefore',\n",
              " 'therein',\n",
              " 'thereupon',\n",
              " 'these',\n",
              " 'they',\n",
              " 'third',\n",
              " 'this',\n",
              " 'those',\n",
              " 'though',\n",
              " 'three',\n",
              " 'through',\n",
              " 'throughout',\n",
              " 'thru',\n",
              " 'thus',\n",
              " 'to',\n",
              " 'together',\n",
              " 'too',\n",
              " 'top',\n",
              " 'toward',\n",
              " 'towards',\n",
              " 'twelve',\n",
              " 'twenty',\n",
              " 'two',\n",
              " 'under',\n",
              " 'unless',\n",
              " 'until',\n",
              " 'up',\n",
              " 'upon',\n",
              " 'us',\n",
              " 'used',\n",
              " 'using',\n",
              " 'various',\n",
              " 'very',\n",
              " 'via',\n",
              " 'was',\n",
              " 'we',\n",
              " 'well',\n",
              " 'were',\n",
              " 'what',\n",
              " 'whatever',\n",
              " 'when',\n",
              " 'whence',\n",
              " 'whenever',\n",
              " 'where',\n",
              " 'whereafter',\n",
              " 'whereas',\n",
              " 'whereby',\n",
              " 'wherein',\n",
              " 'whereupon',\n",
              " 'wherever',\n",
              " 'whether',\n",
              " 'which',\n",
              " 'while',\n",
              " 'whither',\n",
              " 'who',\n",
              " 'whoever',\n",
              " 'whole',\n",
              " 'whom',\n",
              " 'whose',\n",
              " 'why',\n",
              " 'will',\n",
              " 'with',\n",
              " 'within',\n",
              " 'without',\n",
              " 'would',\n",
              " 'yet',\n",
              " 'you',\n",
              " 'your',\n",
              " 'yours',\n",
              " 'yourself',\n",
              " 'yourselves',\n",
              " '‘d',\n",
              " '‘ll',\n",
              " '‘m',\n",
              " '‘re',\n",
              " '‘s',\n",
              " '‘ve',\n",
              " '’d',\n",
              " '’ll',\n",
              " '’m',\n",
              " '’re',\n",
              " '’s',\n",
              " '’ve'}"
            ]
          },
          "metadata": {},
          "execution_count": 29
        }
      ]
    },
    {
      "cell_type": "code",
      "metadata": {
        "id": "nQlzDm8829kN",
        "colab": {
          "base_uri": "https://localhost:8080/"
        },
        "outputId": "3900e8da-7928-41d3-b41f-7197f4070334"
      },
      "source": [
        "# removing stop words\n",
        "tokens_wostopwords = []\n",
        "for token in tokens:\n",
        "  if(token.is_stop == False):\n",
        "    tokens_wostopwords.append(token.text)\n",
        "\n",
        "print(\" \".join(tokens_wostopwords))\n",
        "len(tokens_wostopwords)"
      ],
      "execution_count": 30,
      "outputs": [
        {
          "output_type": "stream",
          "name": "stdout",
          "text": [
            "Mantis shrimp carnivorous marine crustaceans order Stomatopoda ( Ancient Greek στόμα ( stóma ) ' mouth ' , ποδός ( podós ) ' foot ' ) . Stomatopods branched members class Malacostraca 340 million years ago.[2 ] Mantis shrimp typically grow 10 cm ( 3.9 ) length , reach 38 cm ( 15 in).[3 ] mantis shrimp carapace covers rear head segments thorax . Varieties range colour shades brown vivid colours , 520 species mantis shrimp known . important predators shallow , tropical subtropical marine habitats . , despite common , poorly understood , species spend lives sheltering burrows holes.[4 ] \n",
            "\n",
            " Called \" sea locusts \" ancient Assyrians , \" prawn killers \" Australia,[5 ] referred \" thumb splitters\"—because animal ability inflict painful wounds handled incautiously[6]—mantis shrimp powerful raptorial appendages attack kill prey spearing , stunning , dismembering . mantis shrimp species specialised calcified ' clubs ' strike great power , sharp forelimbs seize prey ( term \" mantis \" common ) . \n",
            "\n",
            " Ecology \n",
            " 520 species mantis shrimp discovered worldwide ; living species suborder Unipeltata , arose 250 million years ago.[2][7 ] \n",
            "\n",
            " aggressive typically solitary sea creatures spend time hiding rock formations burrowing intricate passageways sea bed . rarely exit homes feed relocate , diurnal , nocturnal , crepuscular ( active twilight ) , depending species . Unlike crustaceans , hunt , chase , kill prey . live temperate seas , species live tropical subtropical waters Indian Pacific Oceans eastern Africa Hawaii . \n",
            "\n",
            " Habitat \n",
            "\n",
            " Odontodactylus latirostris Wakatobi National Park Sulawesi \n",
            " Mantis shrimp live burrows spend majority time.[8 ] main categories mantis shrimp — spearing smashing — favour different locations burrowing.[8 ] spearing species build habitat soft sediments smashing species burrows hard substrata coral cavities.[8 ] habitats crucial ecology use burrows sites retreat locations consuming prey.[8 ] Burrows coral cavities sites mating keeping eggs safe.[8 ] Stomatopod body size undergoes periodic growth necessitates finding new cavity burrow fit animal new diameter.[8 ] spearing species modify pre - established habitat burrow silt mud , expanded.[8 ] \n",
            "\n",
            " Claws \n",
            "\n",
            " Squilla mantis , showing spearing appendages \n",
            "\n",
            " Mantis shrimp \n",
            " mantis shrimp second pair thoracic appendages highly adapted powerful close - range combat . appendage differences divide mantis shrimp main types : hunt impaling prey spear - like structures smash prey powerful blow heavily mineralised club - like appendage . considerable damage inflicted impact robust , hammer - like claws . club divided subregions : impact region , periodic region , striated region . Mantis shrimp commonly separated ( fall spears smashers outliers)[9 ] distinct groups determined type claws possess : \n",
            "\n",
            " Smashers possess developed club rudimentary spear ( sharp fights kind ) ; club bludgeon smash meals apart . inner aspect terminal portion appendage possess sharp edge , cut prey mantis shrimp swims . \n",
            " Spearers armed spiny appendages - spines having barbed tips - stab snag prey . \n",
            " types strike rapidly unfolding swinging raptorial claws prey , inflict damage victims significantly greater size . smashers , weapons employed blinding quickness , acceleration 10,400 g ( 102,000 m / s2 335,000 ft / s2 ) speeds 23 m / s ( 83 km / h ; 51 mph ) standing start.[10 ] strike rapidly , generate vapor - filled bubbles water appendage striking surface — known cavitation bubbles.[10 ] collapse cavitation bubbles produces measurable forces prey addition instantaneous forces 1,500 newtons caused impact appendage striking surface , means prey hit twice single strike ; claw collapsing cavitation bubbles immediately follow.[11 ] initial strike misses prey , resulting shock wave stun kill . \n",
            "\n",
            " Smashers use ability attack crabs , snails , rock oysters , molluscs , blunt clubs enabling crack shells prey pieces . Spearers , , prefer meat softer animals , fish , barbed claws easily slice snag . \n",
            "\n",
            " appendages studied microscale analogue new macroscale material structures.[12 ] \n",
            "\n",
            " Hatchet : primitive appendage species . body plan largely unresearched.[13][14][15 ] \n",
            " Spike Smashers ( hammers primitive smashers ): possibly \" missing link \" relate common ( spear smasher ) . uncommon studied hatchet type.[13][14][16 ] \n",
            " Eyes \n",
            "\n",
            " Lysiosquillina maculata , showing stalked eyes \n",
            " eyes mantis shrimp mounted mobile stalks independently . extreme mobility allows rotated dimensions , position eyes shown effect perception surroundings.[17 ] thought complex eyes animal kingdom complex - end visual system discovered.[18][19][20 ] Compared types photoreceptor cell humans possess eyes , eyes mantis shrimp 12 16 types photoreceptor cells . Furthermore , stomatopods tune sensitivity long - wavelength colour vision adapt environment.[21 ] phenomenon , called \" spectral tuning \" , species - specific.[22 ] Cheroske et al . observe spectral tuning Neogonodactylus oerstedii , species monotonous natural photic environment . N. bredini , species variety habitats ranging depth 5 10 m ( found 20 m surface ) , spectral tuning observed , ability alter wavelengths maximum absorbance pronounced N. wennerae , species higher ecological / photic habitat diversity . diversity spectral tuning Stomatopoda hypothesised directly linked mutations retinal binding pocket opsin.[23 ] \n",
            "\n",
            " Despite impressive range wavelengths mantis shrimp ability , ability discriminate wavelengths 25 nm apart . suggested discriminating closely positioned wavelengths allows organisms determinations surroundings little processing delay . Having little delay evaluating surroundings important mantis shrimp , territorial frequently combat.[24 ] \n",
            "\n",
            "\n",
            " Close - mantis shrimp showing structure eyes \n",
            "\n",
            " Close Oratosquilla oratoria eyes \n",
            " compound eye tens thousands ommatidia , clusters photoreceptor cells.[19 ] eye consists flattened hemispheres separated parallel rows specialised ommatidia , collectively called midband . number omatidial rows midband ranges six.[18][19 ] divides eye regions . configuration enables mantis shrimp objects parts eye . words , eye possesses trinocular vision , depth perception . upper lower hemispheres primarily recognition form motion , like eyes crustaceans.[18 ] \n",
            "\n",
            " Mantis shrimp perceive wavelengths light ranging deep ultraviolet ( 300 nm ) far - red ( 720 nm ) polarised light.[19][24 ] mantis shrimp superfamilies Gonodactyloidea , Lysiosquilloidea , Hemisquilloidea , midband omatodial rows . Rows 1 4 process colours , rows 5 6 detect circularly linearly polarised light . types photoreceptor cells rows 1 4 , detect ultraviolet light.[18][19][24][25 ] \n",
            "\n",
            " Rows 1 4 midband specialised colour vision , deep ultraviolet far red . UV vision detect different frequency bands deep ultraviolet . , use photoreceptors combination different colour filters.[26][27 ] currently believed insensitive infrared light.[28 ] optical elements rows different classes visual pigments rhabdom ( area eye absorbs light single direction ) divided different pigmented layers ( tiers ) , different wavelengths . tiers rows 2 3 separated colour filters ( intrarhabdomal filters ) divided distinct classes , classes row . organised like sandwich - tier , colour filter class , tier , colour filter class , tier . colour filters allow mantis shrimp diverse colour vision . filters , pigments range small segment visual spectrum , 490 550 nm.[29 ] Rows 5 6 segregated different tiers , class visual pigment , ninth class , specialised polarisation vision . Depending species , detect circularly polarised light , linearly polarised light , . tenth class visual pigment found upper lower hemispheres eye.[18 ] \n",
            "\n",
            " species 16 photoreceptor types , divided classes ( spectral sensitivity tuned colour filters retinas ) , 12 colour analysis different wavelengths ( including sensitive ultraviolet light[26][30 ] ) analysing polarised light . comparison , humans visual pigments , dedicated colour , human lenses block ultraviolet light . visual information leaving retina processed numerous parallel data streams leading brain , greatly reducing analytical requirements higher levels.[31 ] \n",
            "\n",
            " species mantis shrimp reported able detect circularly polarised light , documented animal , present species unknown.[32][33][34 ] biological quarter - waveplates perform uniformly visual spectrum current man - polarising optics , inspire new types optical media outperform early 21st century Blu - ray Disc technology.[35][36 ] \n",
            "\n",
            " species Gonodactylus smithii organism known simultaneously detect linear circular polarisation components required measure Stokes parameters , yield description polarisation . believed optimal polarisation vision.[33][37 ] animal known dynamic polarisation vision . achieved rotational eye movements maximise polarisation contrast object focus background.[38 ] eye moves independently , creates separate streams visual information.[39 ] \n",
            "\n",
            " midband covers 5 10 ° visual field given instant , like crustaceans , mantis shrimps ' eyes mounted stalks . mantis shrimps , movement stalked eye unusually free , driven 70 ° possible axes movement eyecup muscles divided functional groups . muscles scan surroundings midband , add information forms , shapes , landscape , detected upper lower hemispheres eyes . track moving objects large , rapid eye movements eyes independently . combining different techniques , including movements direction , midband cover wide range visual field . \n",
            "\n",
            " huge diversity seen mantis shrimp photoreceptors likely comes ancient gene duplication events.[29][40 ] interesting consequence duplication lack correlation opsin transcript number physiologically expressed photoreceptors.[29 ] species different opsin genes , express spectrally distinct photoreceptor . years , mantis shrimp species lost ancestral phenotype , maintain 16 distinct photoreceptors light filters . Species live variety photic environments high selective pressure photoreceptor diversity , maintain ancestral phenotypes better species live murky waters primarily nocturnal.[29][41 ] \n",
            "\n",
            " Suggested advantages visual system \n",
            "\n",
            " Close - trinocular vision Pseudosquilla ciliata \n",
            " advantage sensitivity polarisation confers unclear ; , polarisation vision animals sexual signaling secret communication avoids attention predators.[42 ] mechanism provide evolutionary advantage ; requires small changes cell eye easily lead natural selection.[43 ] \n",
            "\n",
            " eyes mantis shrimps enable recognise different types coral , prey species ( transparent semitransparent ) , predators , barracuda , shimmering scales . Alternatively , manner hunt ( rapid movements claws ) require accurate ranging information , require accurate depth perception . \n",
            "\n",
            " mating rituals , mantis shrimps actively fluoresce , wavelength fluorescence matches wavelengths detected eye pigments.[44 ] Females fertile certain phases tidal cycle ; ability perceive phase moon , , help prevent wasted mating efforts . shrimps information size tide , important species living shallow water near shore . \n",
            "\n",
            " capacity UV light enable observation hard - - detect prey coral reefs.[30 ] \n",
            "\n",
            " Researchers suspect broader variety photoreceptors eyes mantis shrimps allows visual information preprocessed eyes instead brain , larger deal complex task opponent process colour perception species , requiring time energy . eyes complex fully understood , principle system appears simple.[45 ] similar set sensitivities human visual system , works opposite manner . human brain , inferior temporal cortex huge number colour - specific neurons , process visual impulses eyes extract colour information . mantis shrimp instead uses different types photoreceptors eyes perform function human brain neurons , resulting hardwired efficient system animal requires rapid colour identification . Humans fewer types photoreceptors , colour - tuned neurons , mantis shrimps appears fewer colour neurons classes photoreceptors.[46 ] \n",
            "\n",
            " shrimps use form reflector polarised light seen nature human technology . allows manipulation light structure depth , typical way polarisers work . allows structure small microscopically thin , able produce big , bright , colourful polarised signals.[47 ] \n",
            "\n",
            " Behavior \n",
            "\n",
            " Drawing mantis shrimp Richard Lydekker , 1896 \n",
            " Mantis shrimp long - lived exhibit complex behaviour , ritualised fighting . species use fluorescent patterns bodies signalling maybe species , expanding range behavioural signals . learn remember , able recognise individual neighbours frequently interact . recognise visual signs individual smell . developed complex social behaviours defend space rivals . \n",
            "\n",
            " lifetime , 20 30 breeding episodes . Depending species , eggs laid kept burrow , carried female tail hatch . depending species , males females come mate , bond monogamous , long - term relationships.[48 ] \n",
            "\n",
            " monogamous species , mantis shrimps remain partner 20 years . share burrow able coordinate activities . sexes care eggs ( bi - parental care ) . Pullosquilla species Nannosquilla , female lays clutches eggs – male tends female tends . species , female looks eggs male hunts . eggs hatch , offspring spend months plankton . \n",
            "\n",
            " stomatopods typically display standard types movement seen true shrimp lobsters , species , Nannosquilla decemspinosa , observed flipping crude wheel . species lives shallow , sandy areas . low tides , N. decemspinosa stranded short rear legs , sufficient movement body supported water , dry land . mantis shrimp performs forward flip attempt roll tide pool . N. observed roll repeatedly 2 m ( 6.6 ft ) , specimens typically travel 1 m ( 3.3 ft).[49 ] \n",
            "\n",
            " Culinary uses \n",
            "\n",
            " article missing information specifics species , better combined list fisheries . example , Harpiosquilla harpax Oratosquilla anomala commonly mentioned SE Asian contexts . expand article include information . details exist talk page . ( October 2021 ) \n",
            "\n",
            " Mantis shrimp caught Hậu Lộc , Thanh Hóa , Vietnam \n",
            " Japanese cuisine , mantis shrimp species Oratosquilla oratoria , called shako ( 蝦蛄 ) , eaten boiled sushi topping , occasionally raw sashimi . \n",
            "\n",
            " Mantis shrimps abundant Vietnam coast , known Vietnamese bề bề , tôm tích tôm tít . regions Nha Trang , called bàn chải , named resemblance scrub brush . shrimp steamed , boiled , grilled , dried , pepper , salt lime , fish sauce tamarind , fennel.[50 ] \n",
            "\n",
            "\n",
            " Drying mantis shrimp Gò Công , Tiền Giang , Việt Nam . \n",
            " Cantonese cuisine , mantis shrimp known \" urinating shrimp \" ( Chinese : 瀨尿蝦 ; pinyin : lài niào xiā ; Jyutping : laai6 niu6 haa1 ) tendency shoot jet water picked . cooking , flesh closer lobsters shrimp , like lobsters , shells hard require pressure crack . common preparation deep - frying , stir - frying garlic chili peppers . boiled steamed . \n",
            "\n",
            " Mediterranean countries , mantis shrimp Squilla mantis common seafood , especially Adriatic coasts ( canocchia ) Gulf Cádiz ( galera ) . \n",
            "\n",
            " Philippines , mantis shrimp known tatampal , hipong - dapa , pitik - pitik , alupihang - dagat , cooked eaten like shrimp . \n",
            "\n",
            " Kiribati , mantis shrimp called te waro Gilbertese abundant eaten boiled . Hawaii , mantis shrimp grown unusually large contaminated water Grand Ala Wai Canal Waikiki . dangers normally associated consuming seafood caught contaminated waters present mantis shrimp.[3 ] \n",
            "\n",
            " Aquaria \n",
            "\n",
            " Peacock mantis shrimp \n",
            " saltwater aquarists stomatopods captivity.[51 ] peacock mantis especially colourful desired trade . \n",
            "\n",
            " aquarists value mantis shrimps , consider harmful pests , voracious predators , eating desirable inhabitants tank . Additionally , rock - burrowing species damage live rock fishkeeper prefer . \n",
            "\n",
            " live rock mantis shrimp burrows considered useful marine aquarium trade collected . piece live rock uncommonly conveys live mantis shrimp aquarium . inside tank , feed fish inhabitants , notoriously difficult catch established - stocked tank.[52 ] accounts shrimp breaking glass tanks , rare usually result shrimp kept small tank . stomatopods eat coral , smashers damage try home it.[53 ] \n",
            "\n",
            " Evolutionary history \n",
            "\n",
            " Reconstruction Daidal , primitive Carboniferous mantis shrimp \n",
            " Devonian Eopteridae suggested early stomatopods , fragmentary known remains referral uncertain.[54 ] oldest unambiguous stem - group mantis shrimp date Carboniferous ( 359 - 300 million years ago).[54][55 ] Stem - group mantis shrimp assigned major groups Palaeostomatopodea Archaeostomatopodea , closely related modern mantis shrimp , assigned clade Unipeltata.[54 ] oldest members Unipeltata date Triassic.[55 ] \n",
            "\n",
            " Example species \n",
            " Family Gonodactylidae \n",
            " Gonodactylus smithii \n",
            " Family Hemisquillidae \n",
            " Hemisquilla ensigera \n",
            " Hemisquilla australiensis \n",
            " Hemisquilla braziliensis \n",
            " Hemisquilla californiensis \n",
            " Family Lysiosquillidae \n",
            " Lysiosquillina maculata , zebra mantis shrimp striped mantis shrimp , largest species \n",
            " Family Nannosquillidae \n",
            " Nannosquilla decemspinosa \n",
            " Platysquilla eusebia \n",
            " Family Odontodactylidae \n",
            " Odontodactylus scyllarus , peacock mantis shrimp \n",
            " Odontodactylus latirostris , peacock mantis shrimp \n",
            " Family Pseudosquillidae \n",
            " Pseudosquilla ciliata , common mantis shrimp \n",
            " Family Squillidae \n",
            " Oratosquilla oratoria ( 蝦蛄 , shako ) \n",
            " Rissoides desmaresti \n",
            " Squilla empusa \n",
            " Squilla mantis \n",
            " Family Tetrasquillidae \n",
            " Heterosquilla tricarinata , New Zealand \n",
            " large number mantis shrimp species scientifically described carcinologist , Raymond B. Manning ; collection stomatopods amassed largest world , covering 90 % known species.[56 ]\n"
          ]
        },
        {
          "output_type": "execute_result",
          "data": {
            "text/plain": [
              "2654"
            ]
          },
          "metadata": {},
          "execution_count": 30
        }
      ]
    },
    {
      "cell_type": "code",
      "metadata": {
        "id": "3DH8MBirQCSF"
      },
      "source": [],
      "execution_count": 16,
      "outputs": []
    },
    {
      "cell_type": "code",
      "metadata": {
        "id": "7ZVA5bvs43UX"
      },
      "source": [
        "# COMPILER DESIGN TO UNDERSTAND WHY NLP IS FOLLOWING this approach\n",
        "# https://www.guru99.com/compiler-design-phases-of-compiler.html => first\n",
        "# https://www.geeksforgeeks.org/types-of-parsers-in-compiler-design/ => second\n",
        "#\n",
        "# PARSING is the process of breaking tokens and converting into TREE nodes\n",
        "\n",
        "# DATA STRUCTURES\n",
        "# CRITICAL: http://www.uoitc.edu.iq/images/documents/informatics-institute/Competitive_exam/DataStructures.pdf\n",
        "# https://www.geeksforgeeks.org/difference-between-bfs-and-dfs/\n",
        "\n"
      ],
      "execution_count": 17,
      "outputs": []
    },
    {
      "cell_type": "code",
      "metadata": {
        "id": "xzuYmdM-SpWP"
      },
      "source": [],
      "execution_count": 17,
      "outputs": []
    }
  ]
}