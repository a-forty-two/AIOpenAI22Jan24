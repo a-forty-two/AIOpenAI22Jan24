{
 "cells": [
  {
   "cell_type": "code",
   "execution_count": 3,
   "id": "35f32438-16c4-4d51-99a4-3fcad4e0f967",
   "metadata": {},
   "outputs": [
    {
     "name": "stdout",
     "output_type": "stream",
     "text": [
      "2.11.1\n"
     ]
    }
   ],
   "source": [
    "import tensorflow as tf\n",
    "from tensorflow import keras\n",
    "print(tf.__version__)"
   ]
  },
  {
   "cell_type": "code",
   "execution_count": 6,
   "id": "23cb8d5f-4145-4b8a-afa0-63ae73a0afcb",
   "metadata": {},
   "outputs": [
    {
     "data": {
      "text/plain": [
       "['__builtins__',\n",
       " '__cached__',\n",
       " '__doc__',\n",
       " '__file__',\n",
       " '__loader__',\n",
       " '__name__',\n",
       " '__package__',\n",
       " '__path__',\n",
       " '__spec__',\n",
       " '_sys',\n",
       " 'boston_housing',\n",
       " 'cifar10',\n",
       " 'cifar100',\n",
       " 'fashion_mnist',\n",
       " 'imdb',\n",
       " 'mnist',\n",
       " 'reuters']"
      ]
     },
     "execution_count": 6,
     "metadata": {},
     "output_type": "execute_result"
    }
   ],
   "source": [
    "data = keras.datasets\n",
    "dir(data)"
   ]
  },
  {
   "cell_type": "code",
   "execution_count": 10,
   "id": "69e2ece5-ab1d-4810-850b-4afc3b18e96a",
   "metadata": {},
   "outputs": [
    {
     "data": {
      "text/plain": [
       "['__builtins__',\n",
       " '__cached__',\n",
       " '__doc__',\n",
       " '__file__',\n",
       " '__loader__',\n",
       " '__name__',\n",
       " '__package__',\n",
       " '__path__',\n",
       " '__spec__',\n",
       " '_sys',\n",
       " 'load_data']"
      ]
     },
     "execution_count": 10,
     "metadata": {},
     "output_type": "execute_result"
    }
   ],
   "source": [
    "data = keras.datasets.fashion_mnist\n",
    "dir(data)"
   ]
  },
  {
   "cell_type": "code",
   "execution_count": 11,
   "id": "f1bc6a9a-f60e-437e-bdd0-66f13519f927",
   "metadata": {},
   "outputs": [
    {
     "name": "stdout",
     "output_type": "stream",
     "text": [
      "Downloading data from https://storage.googleapis.com/tensorflow/tf-keras-datasets/train-labels-idx1-ubyte.gz\n",
      "29515/29515 [==============================] - 0s 0us/step\n",
      "Downloading data from https://storage.googleapis.com/tensorflow/tf-keras-datasets/train-images-idx3-ubyte.gz\n",
      "26421880/26421880 [==============================] - 0s 0us/step\n",
      "Downloading data from https://storage.googleapis.com/tensorflow/tf-keras-datasets/t10k-labels-idx1-ubyte.gz\n",
      "5148/5148 [==============================] - 0s 0us/step\n",
      "Downloading data from https://storage.googleapis.com/tensorflow/tf-keras-datasets/t10k-images-idx3-ubyte.gz\n",
      "4422102/4422102 [==============================] - 0s 0us/step\n"
     ]
    }
   ],
   "source": [
    "data = keras.datasets.fashion_mnist.load_data()"
   ]
  },
  {
   "cell_type": "code",
   "execution_count": 12,
   "id": "ff1985e3-7b74-42e5-985b-e8e73dacb2b6",
   "metadata": {},
   "outputs": [
    {
     "data": {
      "text/plain": [
       "((array([[[0, 0, 0, ..., 0, 0, 0],\n",
       "          [0, 0, 0, ..., 0, 0, 0],\n",
       "          [0, 0, 0, ..., 0, 0, 0],\n",
       "          ...,\n",
       "          [0, 0, 0, ..., 0, 0, 0],\n",
       "          [0, 0, 0, ..., 0, 0, 0],\n",
       "          [0, 0, 0, ..., 0, 0, 0]],\n",
       "  \n",
       "         [[0, 0, 0, ..., 0, 0, 0],\n",
       "          [0, 0, 0, ..., 0, 0, 0],\n",
       "          [0, 0, 0, ..., 0, 0, 0],\n",
       "          ...,\n",
       "          [0, 0, 0, ..., 0, 0, 0],\n",
       "          [0, 0, 0, ..., 0, 0, 0],\n",
       "          [0, 0, 0, ..., 0, 0, 0]],\n",
       "  \n",
       "         [[0, 0, 0, ..., 0, 0, 0],\n",
       "          [0, 0, 0, ..., 0, 0, 0],\n",
       "          [0, 0, 0, ..., 0, 0, 0],\n",
       "          ...,\n",
       "          [0, 0, 0, ..., 0, 0, 0],\n",
       "          [0, 0, 0, ..., 0, 0, 0],\n",
       "          [0, 0, 0, ..., 0, 0, 0]],\n",
       "  \n",
       "         ...,\n",
       "  \n",
       "         [[0, 0, 0, ..., 0, 0, 0],\n",
       "          [0, 0, 0, ..., 0, 0, 0],\n",
       "          [0, 0, 0, ..., 0, 0, 0],\n",
       "          ...,\n",
       "          [0, 0, 0, ..., 0, 0, 0],\n",
       "          [0, 0, 0, ..., 0, 0, 0],\n",
       "          [0, 0, 0, ..., 0, 0, 0]],\n",
       "  \n",
       "         [[0, 0, 0, ..., 0, 0, 0],\n",
       "          [0, 0, 0, ..., 0, 0, 0],\n",
       "          [0, 0, 0, ..., 0, 0, 0],\n",
       "          ...,\n",
       "          [0, 0, 0, ..., 0, 0, 0],\n",
       "          [0, 0, 0, ..., 0, 0, 0],\n",
       "          [0, 0, 0, ..., 0, 0, 0]],\n",
       "  \n",
       "         [[0, 0, 0, ..., 0, 0, 0],\n",
       "          [0, 0, 0, ..., 0, 0, 0],\n",
       "          [0, 0, 0, ..., 0, 0, 0],\n",
       "          ...,\n",
       "          [0, 0, 0, ..., 0, 0, 0],\n",
       "          [0, 0, 0, ..., 0, 0, 0],\n",
       "          [0, 0, 0, ..., 0, 0, 0]]], dtype=uint8),\n",
       "  array([9, 0, 0, ..., 3, 0, 5], dtype=uint8)),\n",
       " (array([[[0, 0, 0, ..., 0, 0, 0],\n",
       "          [0, 0, 0, ..., 0, 0, 0],\n",
       "          [0, 0, 0, ..., 0, 0, 0],\n",
       "          ...,\n",
       "          [0, 0, 0, ..., 0, 0, 0],\n",
       "          [0, 0, 0, ..., 0, 0, 0],\n",
       "          [0, 0, 0, ..., 0, 0, 0]],\n",
       "  \n",
       "         [[0, 0, 0, ..., 0, 0, 0],\n",
       "          [0, 0, 0, ..., 0, 0, 0],\n",
       "          [0, 0, 0, ..., 0, 0, 0],\n",
       "          ...,\n",
       "          [0, 0, 0, ..., 0, 0, 0],\n",
       "          [0, 0, 0, ..., 0, 0, 0],\n",
       "          [0, 0, 0, ..., 0, 0, 0]],\n",
       "  \n",
       "         [[0, 0, 0, ..., 0, 0, 0],\n",
       "          [0, 0, 0, ..., 0, 0, 0],\n",
       "          [0, 0, 0, ..., 0, 0, 0],\n",
       "          ...,\n",
       "          [0, 0, 0, ..., 0, 0, 0],\n",
       "          [0, 0, 0, ..., 0, 0, 0],\n",
       "          [0, 0, 0, ..., 0, 0, 0]],\n",
       "  \n",
       "         ...,\n",
       "  \n",
       "         [[0, 0, 0, ..., 0, 0, 0],\n",
       "          [0, 0, 0, ..., 0, 0, 0],\n",
       "          [0, 0, 0, ..., 0, 0, 0],\n",
       "          ...,\n",
       "          [0, 0, 0, ..., 0, 0, 0],\n",
       "          [0, 0, 0, ..., 0, 0, 0],\n",
       "          [0, 0, 0, ..., 0, 0, 0]],\n",
       "  \n",
       "         [[0, 0, 0, ..., 0, 0, 0],\n",
       "          [0, 0, 0, ..., 0, 0, 0],\n",
       "          [0, 0, 0, ..., 0, 0, 0],\n",
       "          ...,\n",
       "          [0, 0, 0, ..., 0, 0, 0],\n",
       "          [0, 0, 0, ..., 0, 0, 0],\n",
       "          [0, 0, 0, ..., 0, 0, 0]],\n",
       "  \n",
       "         [[0, 0, 0, ..., 0, 0, 0],\n",
       "          [0, 0, 0, ..., 0, 0, 0],\n",
       "          [0, 0, 0, ..., 0, 0, 0],\n",
       "          ...,\n",
       "          [0, 0, 0, ..., 0, 0, 0],\n",
       "          [0, 0, 0, ..., 0, 0, 0],\n",
       "          [0, 0, 0, ..., 0, 0, 0]]], dtype=uint8),\n",
       "  array([9, 2, 1, ..., 8, 1, 5], dtype=uint8)))"
      ]
     },
     "execution_count": 12,
     "metadata": {},
     "output_type": "execute_result"
    }
   ],
   "source": [
    "data"
   ]
  },
  {
   "cell_type": "code",
   "execution_count": 21,
   "id": "aef29920-2de4-443d-9370-ab12d0e5f3d8",
   "metadata": {},
   "outputs": [
    {
     "data": {
      "text/plain": [
       "(array([[[0, 0, 0, ..., 0, 0, 0],\n",
       "         [0, 0, 0, ..., 0, 0, 0],\n",
       "         [0, 0, 0, ..., 0, 0, 0],\n",
       "         ...,\n",
       "         [0, 0, 0, ..., 0, 0, 0],\n",
       "         [0, 0, 0, ..., 0, 0, 0],\n",
       "         [0, 0, 0, ..., 0, 0, 0]],\n",
       " \n",
       "        [[0, 0, 0, ..., 0, 0, 0],\n",
       "         [0, 0, 0, ..., 0, 0, 0],\n",
       "         [0, 0, 0, ..., 0, 0, 0],\n",
       "         ...,\n",
       "         [0, 0, 0, ..., 0, 0, 0],\n",
       "         [0, 0, 0, ..., 0, 0, 0],\n",
       "         [0, 0, 0, ..., 0, 0, 0]],\n",
       " \n",
       "        [[0, 0, 0, ..., 0, 0, 0],\n",
       "         [0, 0, 0, ..., 0, 0, 0],\n",
       "         [0, 0, 0, ..., 0, 0, 0],\n",
       "         ...,\n",
       "         [0, 0, 0, ..., 0, 0, 0],\n",
       "         [0, 0, 0, ..., 0, 0, 0],\n",
       "         [0, 0, 0, ..., 0, 0, 0]],\n",
       " \n",
       "        ...,\n",
       " \n",
       "        [[0, 0, 0, ..., 0, 0, 0],\n",
       "         [0, 0, 0, ..., 0, 0, 0],\n",
       "         [0, 0, 0, ..., 0, 0, 0],\n",
       "         ...,\n",
       "         [0, 0, 0, ..., 0, 0, 0],\n",
       "         [0, 0, 0, ..., 0, 0, 0],\n",
       "         [0, 0, 0, ..., 0, 0, 0]],\n",
       " \n",
       "        [[0, 0, 0, ..., 0, 0, 0],\n",
       "         [0, 0, 0, ..., 0, 0, 0],\n",
       "         [0, 0, 0, ..., 0, 0, 0],\n",
       "         ...,\n",
       "         [0, 0, 0, ..., 0, 0, 0],\n",
       "         [0, 0, 0, ..., 0, 0, 0],\n",
       "         [0, 0, 0, ..., 0, 0, 0]],\n",
       " \n",
       "        [[0, 0, 0, ..., 0, 0, 0],\n",
       "         [0, 0, 0, ..., 0, 0, 0],\n",
       "         [0, 0, 0, ..., 0, 0, 0],\n",
       "         ...,\n",
       "         [0, 0, 0, ..., 0, 0, 0],\n",
       "         [0, 0, 0, ..., 0, 0, 0],\n",
       "         [0, 0, 0, ..., 0, 0, 0]]], dtype=uint8),\n",
       " array([9, 2, 1, ..., 8, 1, 5], dtype=uint8))"
      ]
     },
     "execution_count": 21,
     "metadata": {},
     "output_type": "execute_result"
    }
   ],
   "source": [
    "data[1]"
   ]
  },
  {
   "cell_type": "code",
   "execution_count": 26,
   "id": "34310149-3ae6-4633-890a-b5cac86f80e4",
   "metadata": {},
   "outputs": [
    {
     "data": {
      "text/plain": [
       "60000"
      ]
     },
     "execution_count": 26,
     "metadata": {},
     "output_type": "execute_result"
    }
   ],
   "source": [
    "len(data[0][0]) # 60000 elements inside data[0][0]"
   ]
  },
  {
   "cell_type": "code",
   "execution_count": 27,
   "id": "9b618abc-4f74-43e1-ab55-a293a5e245de",
   "metadata": {},
   "outputs": [
    {
     "data": {
      "text/plain": [
       "60000"
      ]
     },
     "execution_count": 27,
     "metadata": {},
     "output_type": "execute_result"
    }
   ],
   "source": [
    "len(data[0][1])"
   ]
  },
  {
   "cell_type": "code",
   "execution_count": 28,
   "id": "394f7364-a628-4f05-b348-8a7b38003aea",
   "metadata": {},
   "outputs": [
    {
     "data": {
      "text/plain": [
       "(10000, 10000)"
      ]
     },
     "execution_count": 28,
     "metadata": {},
     "output_type": "execute_result"
    }
   ],
   "source": [
    "len(data[1][0]), len(data[1][1])"
   ]
  },
  {
   "cell_type": "code",
   "execution_count": 22,
   "id": "f310cb4a-5396-47eb-a44c-13e381b81386",
   "metadata": {},
   "outputs": [
    {
     "data": {
      "text/plain": [
       "array([9, 0, 0, ..., 3, 0, 5], dtype=uint8)"
      ]
     },
     "execution_count": 22,
     "metadata": {},
     "output_type": "execute_result"
    }
   ],
   "source": [
    "data[0][1]"
   ]
  },
  {
   "cell_type": "code",
   "execution_count": 15,
   "id": "45ea4bac-339a-4e2a-8f4a-c0f2165f0208",
   "metadata": {},
   "outputs": [
    {
     "data": {
      "text/plain": [
       "array([[  0,   0,   0,   0,   0,   0,   0,   0,   0,   0,   0,   0,   0,\n",
       "          0,   0,   0,   0,   0,   0,   0,   0,   0,   0,   0,   0,   0,\n",
       "          0,   0],\n",
       "       [  0,   0,   0,   0,   0,   0,   0,   0,   0,   0,   0,   0,   0,\n",
       "          0,   0,   0,   0,   0,   0,   0,   0,   0,   0,   0,   0,   0,\n",
       "          0,   0],\n",
       "       [  0,   0,   0,   0,   0,   0,   0,   0,   0,   0,   0,   0,   0,\n",
       "          0,   0,   0,   0,   0,   0,   0,   0,   0,   0,   0,   0,   0,\n",
       "          0,   0],\n",
       "       [  0,   0,   0,   0,   0,   0,   0,   0,   0,   0,   0,   0,   1,\n",
       "          0,   0,  13,  73,   0,   0,   1,   4,   0,   0,   0,   0,   1,\n",
       "          1,   0],\n",
       "       [  0,   0,   0,   0,   0,   0,   0,   0,   0,   0,   0,   0,   3,\n",
       "          0,  36, 136, 127,  62,  54,   0,   0,   0,   1,   3,   4,   0,\n",
       "          0,   3],\n",
       "       [  0,   0,   0,   0,   0,   0,   0,   0,   0,   0,   0,   0,   6,\n",
       "          0, 102, 204, 176, 134, 144, 123,  23,   0,   0,   0,   0,  12,\n",
       "         10,   0],\n",
       "       [  0,   0,   0,   0,   0,   0,   0,   0,   0,   0,   0,   0,   0,\n",
       "          0, 155, 236, 207, 178, 107, 156, 161, 109,  64,  23,  77, 130,\n",
       "         72,  15],\n",
       "       [  0,   0,   0,   0,   0,   0,   0,   0,   0,   0,   0,   1,   0,\n",
       "         69, 207, 223, 218, 216, 216, 163, 127, 121, 122, 146, 141,  88,\n",
       "        172,  66],\n",
       "       [  0,   0,   0,   0,   0,   0,   0,   0,   0,   1,   1,   1,   0,\n",
       "        200, 232, 232, 233, 229, 223, 223, 215, 213, 164, 127, 123, 196,\n",
       "        229,   0],\n",
       "       [  0,   0,   0,   0,   0,   0,   0,   0,   0,   0,   0,   0,   0,\n",
       "        183, 225, 216, 223, 228, 235, 227, 224, 222, 224, 221, 223, 245,\n",
       "        173,   0],\n",
       "       [  0,   0,   0,   0,   0,   0,   0,   0,   0,   0,   0,   0,   0,\n",
       "        193, 228, 218, 213, 198, 180, 212, 210, 211, 213, 223, 220, 243,\n",
       "        202,   0],\n",
       "       [  0,   0,   0,   0,   0,   0,   0,   0,   0,   1,   3,   0,  12,\n",
       "        219, 220, 212, 218, 192, 169, 227, 208, 218, 224, 212, 226, 197,\n",
       "        209,  52],\n",
       "       [  0,   0,   0,   0,   0,   0,   0,   0,   0,   0,   6,   0,  99,\n",
       "        244, 222, 220, 218, 203, 198, 221, 215, 213, 222, 220, 245, 119,\n",
       "        167,  56],\n",
       "       [  0,   0,   0,   0,   0,   0,   0,   0,   0,   4,   0,   0,  55,\n",
       "        236, 228, 230, 228, 240, 232, 213, 218, 223, 234, 217, 217, 209,\n",
       "         92,   0],\n",
       "       [  0,   0,   1,   4,   6,   7,   2,   0,   0,   0,   0,   0, 237,\n",
       "        226, 217, 223, 222, 219, 222, 221, 216, 223, 229, 215, 218, 255,\n",
       "         77,   0],\n",
       "       [  0,   3,   0,   0,   0,   0,   0,   0,   0,  62, 145, 204, 228,\n",
       "        207, 213, 221, 218, 208, 211, 218, 224, 223, 219, 215, 224, 244,\n",
       "        159,   0],\n",
       "       [  0,   0,   0,   0,  18,  44,  82, 107, 189, 228, 220, 222, 217,\n",
       "        226, 200, 205, 211, 230, 224, 234, 176, 188, 250, 248, 233, 238,\n",
       "        215,   0],\n",
       "       [  0,  57, 187, 208, 224, 221, 224, 208, 204, 214, 208, 209, 200,\n",
       "        159, 245, 193, 206, 223, 255, 255, 221, 234, 221, 211, 220, 232,\n",
       "        246,   0],\n",
       "       [  3, 202, 228, 224, 221, 211, 211, 214, 205, 205, 205, 220, 240,\n",
       "         80, 150, 255, 229, 221, 188, 154, 191, 210, 204, 209, 222, 228,\n",
       "        225,   0],\n",
       "       [ 98, 233, 198, 210, 222, 229, 229, 234, 249, 220, 194, 215, 217,\n",
       "        241,  65,  73, 106, 117, 168, 219, 221, 215, 217, 223, 223, 224,\n",
       "        229,  29],\n",
       "       [ 75, 204, 212, 204, 193, 205, 211, 225, 216, 185, 197, 206, 198,\n",
       "        213, 240, 195, 227, 245, 239, 223, 218, 212, 209, 222, 220, 221,\n",
       "        230,  67],\n",
       "       [ 48, 203, 183, 194, 213, 197, 185, 190, 194, 192, 202, 214, 219,\n",
       "        221, 220, 236, 225, 216, 199, 206, 186, 181, 177, 172, 181, 205,\n",
       "        206, 115],\n",
       "       [  0, 122, 219, 193, 179, 171, 183, 196, 204, 210, 213, 207, 211,\n",
       "        210, 200, 196, 194, 191, 195, 191, 198, 192, 176, 156, 167, 177,\n",
       "        210,  92],\n",
       "       [  0,   0,  74, 189, 212, 191, 175, 172, 175, 181, 185, 188, 189,\n",
       "        188, 193, 198, 204, 209, 210, 210, 211, 188, 188, 194, 192, 216,\n",
       "        170,   0],\n",
       "       [  2,   0,   0,   0,  66, 200, 222, 237, 239, 242, 246, 243, 244,\n",
       "        221, 220, 193, 191, 179, 182, 182, 181, 176, 166, 168,  99,  58,\n",
       "          0,   0],\n",
       "       [  0,   0,   0,   0,   0,   0,   0,  40,  61,  44,  72,  41,  35,\n",
       "          0,   0,   0,   0,   0,   0,   0,   0,   0,   0,   0,   0,   0,\n",
       "          0,   0],\n",
       "       [  0,   0,   0,   0,   0,   0,   0,   0,   0,   0,   0,   0,   0,\n",
       "          0,   0,   0,   0,   0,   0,   0,   0,   0,   0,   0,   0,   0,\n",
       "          0,   0],\n",
       "       [  0,   0,   0,   0,   0,   0,   0,   0,   0,   0,   0,   0,   0,\n",
       "          0,   0,   0,   0,   0,   0,   0,   0,   0,   0,   0,   0,   0,\n",
       "          0,   0]], dtype=uint8)"
      ]
     },
     "execution_count": 15,
     "metadata": {},
     "output_type": "execute_result"
    }
   ],
   "source": [
    "data[0][0][0]"
   ]
  },
  {
   "cell_type": "code",
   "execution_count": 17,
   "id": "efd33dc7-365e-4909-9b43-16fb4803e1e8",
   "metadata": {},
   "outputs": [
    {
     "data": {
      "text/plain": [
       "<matplotlib.image.AxesImage at 0x7f36821eb0d0>"
      ]
     },
     "execution_count": 17,
     "metadata": {},
     "output_type": "execute_result"
    },
    {
     "data": {
      "image/png": "[encoded data removed]",
      "text/plain": [
       "<Figure size 640x480 with 1 Axes>"
      ]
     },
     "metadata": {},
     "output_type": "display_data"
    }
   ],
   "source": [
    "import matplotlib.pyplot as plt\n",
    "\n",
    "plt.figure()\n",
    "plt.imshow(data[0][0][5])\n"
   ]
  },
  {
   "cell_type": "code",
   "execution_count": 29,
   "id": "0f50b1a4-823e-4394-93f8-8432a9b8f3ea",
   "metadata": {},
   "outputs": [],
   "source": [
    "# if our assumption is right, then we should be able to parse into training and testing datasets\n",
    "\n",
    "# data has 2 elements\n",
    "\n",
    "train, test = data"
   ]
  },
  {
   "cell_type": "code",
   "execution_count": 30,
   "id": "af550fac-38d1-4fdd-83ea-a5a0f406c567",
   "metadata": {},
   "outputs": [
    {
     "data": {
      "text/plain": [
       "2"
      ]
     },
     "execution_count": 30,
     "metadata": {},
     "output_type": "execute_result"
    }
   ],
   "source": [
    "len(train)"
   ]
  },
  {
   "cell_type": "code",
   "execution_count": 31,
   "id": "fad0e0af-2173-41ef-bb86-559b28041aba",
   "metadata": {},
   "outputs": [
    {
     "data": {
      "text/plain": [
       "2"
      ]
     },
     "execution_count": 31,
     "metadata": {},
     "output_type": "execute_result"
    }
   ],
   "source": [
    "len(test)"
   ]
  },
  {
   "cell_type": "code",
   "execution_count": 32,
   "id": "5c7060aa-f289-4261-aff9-a1b498e40f60",
   "metadata": {},
   "outputs": [],
   "source": [
    "# train, test = data becomes\n",
    "(xtrain, ytrain), (xtest, ytest) = data"
   ]
  },
  {
   "cell_type": "code",
   "execution_count": 38,
   "id": "60f0e8e2-16d2-4c79-8cd9-3419b1602f76",
   "metadata": {},
   "outputs": [],
   "source": [
    "class_names = ['T-shirt/top', 'Trouser', 'Pullover', 'Dress', 'Coat',\n",
    "               'Sandal', 'Shirt', 'Sneaker', 'Bag', 'Ankle boot']"
   ]
  },
  {
   "cell_type": "code",
   "execution_count": 43,
   "id": "fae343e1-898e-427d-84c2-653ab7de4e57",
   "metadata": {},
   "outputs": [
    {
     "name": "stdout",
     "output_type": "stream",
     "text": [
      "Dress\n"
     ]
    },
    {
     "data": {
      "text/plain": [
       "<matplotlib.image.AxesImage at 0x7f3681ac1640>"
      ]
     },
     "execution_count": 43,
     "metadata": {},
     "output_type": "execute_result"
    },
    {
     "data": {
      "image/png": "[encoded data removed]",
      "text/plain": [
       "<Figure size 640x480 with 1 Axes>"
      ]
     },
     "metadata": {},
     "output_type": "display_data"
    }
   ],
   "source": [
    "k = 30000\n",
    "print(class_names[ytrain[k]])\n",
    "plt.imshow(xtrain[k])"
   ]
  },
  {
   "cell_type": "code",
   "execution_count": 44,
   "id": "a803126a-2110-42a1-9dc5-4dd5b695ce56",
   "metadata": {},
   "outputs": [
    {
     "name": "stdout",
     "output_type": "stream",
     "text": [
      "Ankle boot\n"
     ]
    },
    {
     "data": {
      "text/plain": [
       "<matplotlib.image.AxesImage at 0x7f3681a321f0>"
      ]
     },
     "execution_count": 44,
     "metadata": {},
     "output_type": "execute_result"
    },
    {
     "data": {
      "image/png": "[encoded data removed]",
      "text/plain": [
       "<Figure size 640x480 with 1 Axes>"
      ]
     },
     "metadata": {},
     "output_type": "display_data"
    }
   ],
   "source": [
    "k = 50000\n",
    "print(class_names[ytrain[k]])\n",
    "plt.imshow(xtrain[k])"
   ]
  },
  {
   "cell_type": "code",
   "execution_count": 45,
   "id": "473d8027-0ce2-47a7-9984-ed0033182117",
   "metadata": {},
   "outputs": [],
   "source": [
    "# data normalization -> Z-score, MinMax \n",
    "# MinMax -> (data-min) / (max - min); images-> min-> 0, max-> 255\n",
    "# images-> (data-0) / (255-0) = data/255\n",
    "\n",
    "xtrain = xtrain/255.0\n",
    "xtest = xtest/255.0 \n"
   ]
  },
  {
   "cell_type": "code",
   "execution_count": 47,
   "id": "dd70d7e6-6dda-408e-9b20-3df19adf070d",
   "metadata": {},
   "outputs": [
    {
     "data": {
      "text/plain": [
       "array([[0.        , 0.        , 0.        , 0.        , 0.        ,\n",
       "        0.        , 0.        , 0.        , 0.        , 0.        ,\n",
       "        0.        , 0.        , 0.        , 0.        , 0.        ,\n",
       "        0.        , 0.        , 0.        , 0.        , 0.        ,\n",
       "        0.        , 0.        , 0.        , 0.        , 0.        ,\n",
       "        0.        , 0.        , 0.        ],\n",
       "       [0.        , 0.        , 0.        , 0.        , 0.        ,\n",
       "        0.        , 0.        , 0.        , 0.        , 0.        ,\n",
       "        0.        , 0.        , 0.        , 0.        , 0.        ,\n",
       "        0.        , 0.        , 0.        , 0.        , 0.        ,\n",
       "        0.        , 0.        , 0.        , 0.        , 0.        ,\n",
       "        0.        , 0.        , 0.        ],\n",
       "       [0.        , 0.        , 0.        , 0.        , 0.        ,\n",
       "        0.        , 0.        , 0.        , 0.        , 0.        ,\n",
       "        0.        , 0.        , 0.        , 0.        , 0.        ,\n",
       "        0.        , 0.        , 0.        , 0.        , 0.        ,\n",
       "        0.        , 0.        , 0.        , 0.        , 0.        ,\n",
       "        0.        , 0.        , 0.        ],\n",
       "       [0.        , 0.        , 0.        , 0.        , 0.        ,\n",
       "        0.        , 0.        , 0.        , 0.        , 0.        ,\n",
       "        0.        , 0.        , 0.00392157, 0.        , 0.        ,\n",
       "        0.05098039, 0.28627451, 0.        , 0.        , 0.00392157,\n",
       "        0.01568627, 0.        , 0.        , 0.        , 0.        ,\n",
       "        0.00392157, 0.00392157, 0.        ],\n",
       "       [0.        , 0.        , 0.        , 0.        , 0.        ,\n",
       "        0.        , 0.        , 0.        , 0.        , 0.        ,\n",
       "        0.        , 0.        , 0.01176471, 0.        , 0.14117647,\n",
       "        0.53333333, 0.49803922, 0.24313725, 0.21176471, 0.        ,\n",
       "        0.        , 0.        , 0.00392157, 0.01176471, 0.01568627,\n",
       "        0.        , 0.        , 0.01176471],\n",
       "       [0.        , 0.        , 0.        , 0.        , 0.        ,\n",
       "        0.        , 0.        , 0.        , 0.        , 0.        ,\n",
       "        0.        , 0.        , 0.02352941, 0.        , 0.4       ,\n",
       "        0.8       , 0.69019608, 0.5254902 , 0.56470588, 0.48235294,\n",
       "        0.09019608, 0.        , 0.        , 0.        , 0.        ,\n",
       "        0.04705882, 0.03921569, 0.        ],\n",
       "       [0.        , 0.        , 0.        , 0.        , 0.        ,\n",
       "        0.        , 0.        , 0.        , 0.        , 0.        ,\n",
       "        0.        , 0.        , 0.        , 0.        , 0.60784314,\n",
       "        0.9254902 , 0.81176471, 0.69803922, 0.41960784, 0.61176471,\n",
       "        0.63137255, 0.42745098, 0.25098039, 0.09019608, 0.30196078,\n",
       "        0.50980392, 0.28235294, 0.05882353],\n",
       "       [0.        , 0.        , 0.        , 0.        , 0.        ,\n",
       "        0.        , 0.        , 0.        , 0.        , 0.        ,\n",
       "        0.        , 0.00392157, 0.        , 0.27058824, 0.81176471,\n",
       "        0.8745098 , 0.85490196, 0.84705882, 0.84705882, 0.63921569,\n",
       "        0.49803922, 0.4745098 , 0.47843137, 0.57254902, 0.55294118,\n",
       "        0.34509804, 0.6745098 , 0.25882353],\n",
       "       [0.        , 0.        , 0.        , 0.        , 0.        ,\n",
       "        0.        , 0.        , 0.        , 0.        , 0.00392157,\n",
       "        0.00392157, 0.00392157, 0.        , 0.78431373, 0.90980392,\n",
       "        0.90980392, 0.91372549, 0.89803922, 0.8745098 , 0.8745098 ,\n",
       "        0.84313725, 0.83529412, 0.64313725, 0.49803922, 0.48235294,\n",
       "        0.76862745, 0.89803922, 0.        ],\n",
       "       [0.        , 0.        , 0.        , 0.        , 0.        ,\n",
       "        0.        , 0.        , 0.        , 0.        , 0.        ,\n",
       "        0.        , 0.        , 0.        , 0.71764706, 0.88235294,\n",
       "        0.84705882, 0.8745098 , 0.89411765, 0.92156863, 0.89019608,\n",
       "        0.87843137, 0.87058824, 0.87843137, 0.86666667, 0.8745098 ,\n",
       "        0.96078431, 0.67843137, 0.        ],\n",
       "       [0.        , 0.        , 0.        , 0.        , 0.        ,\n",
       "        0.        , 0.        , 0.        , 0.        , 0.        ,\n",
       "        0.        , 0.        , 0.        , 0.75686275, 0.89411765,\n",
       "        0.85490196, 0.83529412, 0.77647059, 0.70588235, 0.83137255,\n",
       "        0.82352941, 0.82745098, 0.83529412, 0.8745098 , 0.8627451 ,\n",
       "        0.95294118, 0.79215686, 0.        ],\n",
       "       [0.        , 0.        , 0.        , 0.        , 0.        ,\n",
       "        0.        , 0.        , 0.        , 0.        , 0.00392157,\n",
       "        0.01176471, 0.        , 0.04705882, 0.85882353, 0.8627451 ,\n",
       "        0.83137255, 0.85490196, 0.75294118, 0.6627451 , 0.89019608,\n",
       "        0.81568627, 0.85490196, 0.87843137, 0.83137255, 0.88627451,\n",
       "        0.77254902, 0.81960784, 0.20392157],\n",
       "       [0.        , 0.        , 0.        , 0.        , 0.        ,\n",
       "        0.        , 0.        , 0.        , 0.        , 0.        ,\n",
       "        0.02352941, 0.        , 0.38823529, 0.95686275, 0.87058824,\n",
       "        0.8627451 , 0.85490196, 0.79607843, 0.77647059, 0.86666667,\n",
       "        0.84313725, 0.83529412, 0.87058824, 0.8627451 , 0.96078431,\n",
       "        0.46666667, 0.65490196, 0.21960784],\n",
       "       [0.        , 0.        , 0.        , 0.        , 0.        ,\n",
       "        0.        , 0.        , 0.        , 0.        , 0.01568627,\n",
       "        0.        , 0.        , 0.21568627, 0.9254902 , 0.89411765,\n",
       "        0.90196078, 0.89411765, 0.94117647, 0.90980392, 0.83529412,\n",
       "        0.85490196, 0.8745098 , 0.91764706, 0.85098039, 0.85098039,\n",
       "        0.81960784, 0.36078431, 0.        ],\n",
       "       [0.        , 0.        , 0.00392157, 0.01568627, 0.02352941,\n",
       "        0.02745098, 0.00784314, 0.        , 0.        , 0.        ,\n",
       "        0.        , 0.        , 0.92941176, 0.88627451, 0.85098039,\n",
       "        0.8745098 , 0.87058824, 0.85882353, 0.87058824, 0.86666667,\n",
       "        0.84705882, 0.8745098 , 0.89803922, 0.84313725, 0.85490196,\n",
       "        1.        , 0.30196078, 0.        ],\n",
       "       [0.        , 0.01176471, 0.        , 0.        , 0.        ,\n",
       "        0.        , 0.        , 0.        , 0.        , 0.24313725,\n",
       "        0.56862745, 0.8       , 0.89411765, 0.81176471, 0.83529412,\n",
       "        0.86666667, 0.85490196, 0.81568627, 0.82745098, 0.85490196,\n",
       "        0.87843137, 0.8745098 , 0.85882353, 0.84313725, 0.87843137,\n",
       "        0.95686275, 0.62352941, 0.        ],\n",
       "       [0.        , 0.        , 0.        , 0.        , 0.07058824,\n",
       "        0.17254902, 0.32156863, 0.41960784, 0.74117647, 0.89411765,\n",
       "        0.8627451 , 0.87058824, 0.85098039, 0.88627451, 0.78431373,\n",
       "        0.80392157, 0.82745098, 0.90196078, 0.87843137, 0.91764706,\n",
       "        0.69019608, 0.7372549 , 0.98039216, 0.97254902, 0.91372549,\n",
       "        0.93333333, 0.84313725, 0.        ],\n",
       "       [0.        , 0.22352941, 0.73333333, 0.81568627, 0.87843137,\n",
       "        0.86666667, 0.87843137, 0.81568627, 0.8       , 0.83921569,\n",
       "        0.81568627, 0.81960784, 0.78431373, 0.62352941, 0.96078431,\n",
       "        0.75686275, 0.80784314, 0.8745098 , 1.        , 1.        ,\n",
       "        0.86666667, 0.91764706, 0.86666667, 0.82745098, 0.8627451 ,\n",
       "        0.90980392, 0.96470588, 0.        ],\n",
       "       [0.01176471, 0.79215686, 0.89411765, 0.87843137, 0.86666667,\n",
       "        0.82745098, 0.82745098, 0.83921569, 0.80392157, 0.80392157,\n",
       "        0.80392157, 0.8627451 , 0.94117647, 0.31372549, 0.58823529,\n",
       "        1.        , 0.89803922, 0.86666667, 0.7372549 , 0.60392157,\n",
       "        0.74901961, 0.82352941, 0.8       , 0.81960784, 0.87058824,\n",
       "        0.89411765, 0.88235294, 0.        ],\n",
       "       [0.38431373, 0.91372549, 0.77647059, 0.82352941, 0.87058824,\n",
       "        0.89803922, 0.89803922, 0.91764706, 0.97647059, 0.8627451 ,\n",
       "        0.76078431, 0.84313725, 0.85098039, 0.94509804, 0.25490196,\n",
       "        0.28627451, 0.41568627, 0.45882353, 0.65882353, 0.85882353,\n",
       "        0.86666667, 0.84313725, 0.85098039, 0.8745098 , 0.8745098 ,\n",
       "        0.87843137, 0.89803922, 0.11372549],\n",
       "       [0.29411765, 0.8       , 0.83137255, 0.8       , 0.75686275,\n",
       "        0.80392157, 0.82745098, 0.88235294, 0.84705882, 0.7254902 ,\n",
       "        0.77254902, 0.80784314, 0.77647059, 0.83529412, 0.94117647,\n",
       "        0.76470588, 0.89019608, 0.96078431, 0.9372549 , 0.8745098 ,\n",
       "        0.85490196, 0.83137255, 0.81960784, 0.87058824, 0.8627451 ,\n",
       "        0.86666667, 0.90196078, 0.2627451 ],\n",
       "       [0.18823529, 0.79607843, 0.71764706, 0.76078431, 0.83529412,\n",
       "        0.77254902, 0.7254902 , 0.74509804, 0.76078431, 0.75294118,\n",
       "        0.79215686, 0.83921569, 0.85882353, 0.86666667, 0.8627451 ,\n",
       "        0.9254902 , 0.88235294, 0.84705882, 0.78039216, 0.80784314,\n",
       "        0.72941176, 0.70980392, 0.69411765, 0.6745098 , 0.70980392,\n",
       "        0.80392157, 0.80784314, 0.45098039],\n",
       "       [0.        , 0.47843137, 0.85882353, 0.75686275, 0.70196078,\n",
       "        0.67058824, 0.71764706, 0.76862745, 0.8       , 0.82352941,\n",
       "        0.83529412, 0.81176471, 0.82745098, 0.82352941, 0.78431373,\n",
       "        0.76862745, 0.76078431, 0.74901961, 0.76470588, 0.74901961,\n",
       "        0.77647059, 0.75294118, 0.69019608, 0.61176471, 0.65490196,\n",
       "        0.69411765, 0.82352941, 0.36078431],\n",
       "       [0.        , 0.        , 0.29019608, 0.74117647, 0.83137255,\n",
       "        0.74901961, 0.68627451, 0.6745098 , 0.68627451, 0.70980392,\n",
       "        0.7254902 , 0.7372549 , 0.74117647, 0.7372549 , 0.75686275,\n",
       "        0.77647059, 0.8       , 0.81960784, 0.82352941, 0.82352941,\n",
       "        0.82745098, 0.7372549 , 0.7372549 , 0.76078431, 0.75294118,\n",
       "        0.84705882, 0.66666667, 0.        ],\n",
       "       [0.00784314, 0.        , 0.        , 0.        , 0.25882353,\n",
       "        0.78431373, 0.87058824, 0.92941176, 0.9372549 , 0.94901961,\n",
       "        0.96470588, 0.95294118, 0.95686275, 0.86666667, 0.8627451 ,\n",
       "        0.75686275, 0.74901961, 0.70196078, 0.71372549, 0.71372549,\n",
       "        0.70980392, 0.69019608, 0.65098039, 0.65882353, 0.38823529,\n",
       "        0.22745098, 0.        , 0.        ],\n",
       "       [0.        , 0.        , 0.        , 0.        , 0.        ,\n",
       "        0.        , 0.        , 0.15686275, 0.23921569, 0.17254902,\n",
       "        0.28235294, 0.16078431, 0.1372549 , 0.        , 0.        ,\n",
       "        0.        , 0.        , 0.        , 0.        , 0.        ,\n",
       "        0.        , 0.        , 0.        , 0.        , 0.        ,\n",
       "        0.        , 0.        , 0.        ],\n",
       "       [0.        , 0.        , 0.        , 0.        , 0.        ,\n",
       "        0.        , 0.        , 0.        , 0.        , 0.        ,\n",
       "        0.        , 0.        , 0.        , 0.        , 0.        ,\n",
       "        0.        , 0.        , 0.        , 0.        , 0.        ,\n",
       "        0.        , 0.        , 0.        , 0.        , 0.        ,\n",
       "        0.        , 0.        , 0.        ],\n",
       "       [0.        , 0.        , 0.        , 0.        , 0.        ,\n",
       "        0.        , 0.        , 0.        , 0.        , 0.        ,\n",
       "        0.        , 0.        , 0.        , 0.        , 0.        ,\n",
       "        0.        , 0.        , 0.        , 0.        , 0.        ,\n",
       "        0.        , 0.        , 0.        , 0.        , 0.        ,\n",
       "        0.        , 0.        , 0.        ]])"
      ]
     },
     "execution_count": 47,
     "metadata": {},
     "output_type": "execute_result"
    }
   ],
   "source": [
    "xtrain[0]"
   ]
  },
  {
   "cell_type": "code",
   "execution_count": 52,
   "id": "5773ae77-bfdd-4c51-b342-6315a3565a0e",
   "metadata": {},
   "outputs": [
    {
     "data": {
      "text/plain": [
       "(28, 28)"
      ]
     },
     "execution_count": 52,
     "metadata": {},
     "output_type": "execute_result"
    }
   ],
   "source": [
    "# know your image size also\n",
    "xtrain[0].shape"
   ]
  },
  {
   "cell_type": "code",
   "execution_count": 49,
   "id": "e27d2741-13c1-4e6b-889e-b3ab3d4f21bd",
   "metadata": {},
   "outputs": [
    {
     "data": {
      "text/plain": [
       "<matplotlib.image.AxesImage at 0x7f36466e7fd0>"
      ]
     },
     "execution_count": 49,
     "metadata": {},
     "output_type": "execute_result"
    },
    {
     "data": {
      "image/png": "[encoded data removed]",
      "text/plain": [
       "<Figure size 640x480 with 1 Axes>"
      ]
     },
     "metadata": {},
     "output_type": "display_data"
    }
   ],
   "source": [
    "plt.figure()\n",
    "plt.imshow(xtrain[0])"
   ]
  },
  {
   "cell_type": "code",
   "execution_count": 53,
   "id": "e8ac7f91-a7e0-45ab-b2d5-c5bd2773cc86",
   "metadata": {},
   "outputs": [],
   "source": [
    "# 3 layers\n",
    "# First Layer-> INPUT Layer -> input size \n",
    "\n",
    "# In between everything-> HIDDEN LAYERS -> ones manipulated by DEVELOPERS!\n",
    "\n",
    "# Last Layer-> OUTPUT LAYER -> as many outputs as your number of classes (regression-> 1 output)\n",
    "\n",
    "HP_hidden_1 = 512\n",
    "\n",
    "l1 = keras.layers.Flatten(input_shape = (28,28))\n",
    "\n",
    "l2 = keras.layers.Dense(HP_hidden_1)\n",
    "\n",
    "l3 = keras.layers.Dense(10) # 10 outputs\n",
    "\n",
    "# Weights, Bias\n",
    "\n",
    "# Weights and Bias for layer 1 (FLATTENING) = 0\n",
    "\n",
    "# For layer 2, the Dense layer, Weights = input X output , Bias = number of outputs \n",
    "\n",
    "# For layer 2, the Dense layer, Weights = input X output , Bias = number of outputs \n",
    "\n",
    "# Trainable Parameters = total weights and bias inside a networks! \n",
    "\n",
    "\n"
   ]
  },
  {
   "cell_type": "code",
   "execution_count": 55,
   "id": "4d3d0cf2-ab24-4280-898f-4f721b64a688",
   "metadata": {},
   "outputs": [
    {
     "name": "stdout",
     "output_type": "stream",
     "text": [
      "Model: \"sequential_1\"\n",
      "_________________________________________________________________\n",
      " Layer (type)                Output Shape              Param #   \n",
      "=================================================================\n",
      " flatten (Flatten)           (None, 784)               0         \n",
      "                                                                 \n",
      " dense (Dense)               (None, 512)               401920    \n",
      "                                                                 \n",
      " dense_1 (Dense)             (None, 10)                5130      \n",
      "                                                                 \n",
      "=================================================================\n",
      "Total params: 407,050\n",
      "Trainable params: 407,050\n",
      "Non-trainable params: 0\n",
      "_________________________________________________________________\n"
     ]
    }
   ],
   "source": [
    "model = keras.Sequential([l1, l2, l3])\n",
    "model.summary()"
   ]
  },
  {
   "cell_type": "code",
   "execution_count": 56,
   "id": "070ee4ab-e6fc-4e3a-8c01-9080374fd3ab",
   "metadata": {},
   "outputs": [
    {
     "data": {
      "text/plain": [
       "401920"
      ]
     },
     "execution_count": 56,
     "metadata": {},
     "output_type": "execute_result"
    }
   ],
   "source": [
    "784*512 + 512 "
   ]
  },
  {
   "cell_type": "code",
   "execution_count": 57,
   "id": "242f1e9a-822a-4412-a62e-efc03d4ea3d8",
   "metadata": {},
   "outputs": [
    {
     "data": {
      "text/plain": [
       "['BinaryCrossentropy',\n",
       " 'BinaryFocalCrossentropy',\n",
       " 'CategoricalCrossentropy',\n",
       " 'CategoricalHinge',\n",
       " 'CosineSimilarity',\n",
       " 'Hinge',\n",
       " 'Huber',\n",
       " 'KLD',\n",
       " 'KLDivergence',\n",
       " 'LogCosh',\n",
       " 'Loss',\n",
       " 'MAE',\n",
       " 'MAPE',\n",
       " 'MSE',\n",
       " 'MSLE',\n",
       " 'MeanAbsoluteError',\n",
       " 'MeanAbsolutePercentageError',\n",
       " 'MeanSquaredError',\n",
       " 'MeanSquaredLogarithmicError',\n",
       " 'Poisson',\n",
       " 'Reduction',\n",
       " 'SparseCategoricalCrossentropy',\n",
       " 'SquaredHinge',\n",
       " '__builtins__',\n",
       " '__cached__',\n",
       " '__doc__',\n",
       " '__file__',\n",
       " '__loader__',\n",
       " '__name__',\n",
       " '__package__',\n",
       " '__path__',\n",
       " '__spec__',\n",
       " '_sys',\n",
       " 'binary_crossentropy',\n",
       " 'binary_focal_crossentropy',\n",
       " 'categorical_crossentropy',\n",
       " 'categorical_hinge',\n",
       " 'cosine_similarity',\n",
       " 'deserialize',\n",
       " 'get',\n",
       " 'hinge',\n",
       " 'huber',\n",
       " 'kl_divergence',\n",
       " 'kld',\n",
       " 'kullback_leibler_divergence',\n",
       " 'log_cosh',\n",
       " 'logcosh',\n",
       " 'mae',\n",
       " 'mape',\n",
       " 'mean_absolute_error',\n",
       " 'mean_absolute_percentage_error',\n",
       " 'mean_squared_error',\n",
       " 'mean_squared_logarithmic_error',\n",
       " 'mse',\n",
       " 'msle',\n",
       " 'poisson',\n",
       " 'serialize',\n",
       " 'sparse_categorical_crossentropy',\n",
       " 'squared_hinge']"
      ]
     },
     "execution_count": 57,
     "metadata": {},
     "output_type": "execute_result"
    }
   ],
   "source": [
    "# model still does not know how to calculate loss and how to reduce it!\n",
    "\n",
    "dir(keras.losses)"
   ]
  },
  {
   "cell_type": "code",
   "execution_count": 62,
   "id": "307b53ad-d307-4c89-a5fe-13bf62628da2",
   "metadata": {},
   "outputs": [
    {
     "data": {
      "text/plain": [
       "['AUC',\n",
       " 'Accuracy',\n",
       " 'BinaryAccuracy',\n",
       " 'BinaryCrossentropy',\n",
       " 'BinaryIoU',\n",
       " 'CategoricalAccuracy',\n",
       " 'CategoricalCrossentropy',\n",
       " 'CategoricalHinge',\n",
       " 'CosineSimilarity',\n",
       " 'FalseNegatives',\n",
       " 'FalsePositives',\n",
       " 'Hinge',\n",
       " 'IoU',\n",
       " 'KLD',\n",
       " 'KLDivergence',\n",
       " 'LogCoshError',\n",
       " 'MAE',\n",
       " 'MAPE',\n",
       " 'MSE',\n",
       " 'MSLE',\n",
       " 'Mean',\n",
       " 'MeanAbsoluteError',\n",
       " 'MeanAbsolutePercentageError',\n",
       " 'MeanIoU',\n",
       " 'MeanMetricWrapper',\n",
       " 'MeanRelativeError',\n",
       " 'MeanSquaredError',\n",
       " 'MeanSquaredLogarithmicError',\n",
       " 'MeanTensor',\n",
       " 'Metric',\n",
       " 'OneHotIoU',\n",
       " 'OneHotMeanIoU',\n",
       " 'Poisson',\n",
       " 'Precision',\n",
       " 'PrecisionAtRecall',\n",
       " 'Recall',\n",
       " 'RecallAtPrecision',\n",
       " 'RootMeanSquaredError',\n",
       " 'SensitivityAtSpecificity',\n",
       " 'SparseCategoricalAccuracy',\n",
       " 'SparseCategoricalCrossentropy',\n",
       " 'SparseTopKCategoricalAccuracy',\n",
       " 'SpecificityAtSensitivity',\n",
       " 'SquaredHinge',\n",
       " 'Sum',\n",
       " 'TopKCategoricalAccuracy',\n",
       " 'TrueNegatives',\n",
       " 'TruePositives',\n",
       " '__builtins__',\n",
       " '__cached__',\n",
       " '__doc__',\n",
       " '__file__',\n",
       " '__loader__',\n",
       " '__name__',\n",
       " '__package__',\n",
       " '__path__',\n",
       " '__spec__',\n",
       " '_sys',\n",
       " 'binary_accuracy',\n",
       " 'binary_crossentropy',\n",
       " 'binary_focal_crossentropy',\n",
       " 'categorical_accuracy',\n",
       " 'categorical_crossentropy',\n",
       " 'deserialize',\n",
       " 'get',\n",
       " 'hinge',\n",
       " 'kl_divergence',\n",
       " 'kld',\n",
       " 'kullback_leibler_divergence',\n",
       " 'log_cosh',\n",
       " 'logcosh',\n",
       " 'mae',\n",
       " 'mape',\n",
       " 'mean_absolute_error',\n",
       " 'mean_absolute_percentage_error',\n",
       " 'mean_squared_error',\n",
       " 'mean_squared_logarithmic_error',\n",
       " 'mse',\n",
       " 'msle',\n",
       " 'poisson',\n",
       " 'serialize',\n",
       " 'sparse_categorical_accuracy',\n",
       " 'sparse_categorical_crossentropy',\n",
       " 'sparse_top_k_categorical_accuracy',\n",
       " 'squared_hinge',\n",
       " 'top_k_categorical_accuracy']"
      ]
     },
     "execution_count": 62,
     "metadata": {},
     "output_type": "execute_result"
    }
   ],
   "source": [
    "dir(keras.metrics)"
   ]
  },
  {
   "cell_type": "code",
   "execution_count": 58,
   "id": "1096dba5-1c18-4feb-bcbb-7f83f0b21c0d",
   "metadata": {},
   "outputs": [
    {
     "data": {
      "text/plain": [
       "['Adadelta',\n",
       " 'Adagrad',\n",
       " 'Adam',\n",
       " 'Adamax',\n",
       " 'Ftrl',\n",
       " 'Nadam',\n",
       " 'Optimizer',\n",
       " 'RMSprop',\n",
       " 'SGD',\n",
       " '__builtins__',\n",
       " '__cached__',\n",
       " '__doc__',\n",
       " '__file__',\n",
       " '__loader__',\n",
       " '__name__',\n",
       " '__package__',\n",
       " '__path__',\n",
       " '__spec__',\n",
       " '_sys',\n",
       " 'deserialize',\n",
       " 'experimental',\n",
       " 'get',\n",
       " 'legacy',\n",
       " 'schedules',\n",
       " 'serialize']"
      ]
     },
     "execution_count": 58,
     "metadata": {},
     "output_type": "execute_result"
    }
   ],
   "source": [
    "dir(keras.optimizers)"
   ]
  },
  {
   "cell_type": "code",
   "execution_count": 59,
   "id": "ed8916c4-ec64-47d2-86d5-ac5ea9e24bcb",
   "metadata": {},
   "outputs": [],
   "source": [
    "myloss = 'sparse_categorical_crossentropy' #keras.losses.sparse_categorical_crossentropy\n",
    "myopt = 'adam'\n"
   ]
  },
  {
   "cell_type": "code",
   "execution_count": 65,
   "id": "5b94a509-35e7-45fa-a357-51e10d5a1426",
   "metadata": {},
   "outputs": [],
   "source": [
    "model.compile(loss = myloss, optimizer = myopt, metrics = ['accuracy'])"
   ]
  },
  {
   "cell_type": "code",
   "execution_count": 66,
   "id": "d2fd336b-9f23-4933-a5fc-43622b4fda5a",
   "metadata": {},
   "outputs": [
    {
     "name": "stdout",
     "output_type": "stream",
     "text": [
      "Epoch 1/10\n",
      "1875/1875 [==============================] - 8s 4ms/step - loss: 9.5468 - accuracy: 0.2005\n",
      "Epoch 2/10\n",
      "1875/1875 [==============================] - 7s 4ms/step - loss: 2.2650 - accuracy: 0.2007\n",
      "Epoch 3/10\n",
      "1875/1875 [==============================] - 7s 4ms/step - loss: 2.3027 - accuracy: 0.1105\n",
      "Epoch 4/10\n",
      "1875/1875 [==============================] - 8s 4ms/step - loss: 2.3027 - accuracy: 0.1105\n",
      "Epoch 5/10\n",
      "1875/1875 [==============================] - 7s 4ms/step - loss: 2.3027 - accuracy: 0.1105\n",
      "Epoch 6/10\n",
      "1875/1875 [==============================] - 8s 4ms/step - loss: 2.3027 - accuracy: 0.1105\n",
      "Epoch 7/10\n",
      "1875/1875 [==============================] - 8s 4ms/step - loss: 2.3027 - accuracy: 0.1105\n",
      "Epoch 8/10\n",
      "1875/1875 [==============================] - 8s 4ms/step - loss: 2.3027 - accuracy: 0.1105\n",
      "Epoch 9/10\n",
      "1875/1875 [==============================] - 7s 4ms/step - loss: 2.3027 - accuracy: 0.1105\n",
      "Epoch 10/10\n",
      "1875/1875 [==============================] - 7s 4ms/step - loss: 2.3027 - accuracy: 0.1105\n"
     ]
    },
    {
     "data": {
      "text/plain": [
       "<keras.callbacks.History at 0x7f363c41d9a0>"
      ]
     },
     "execution_count": 66,
     "metadata": {},
     "output_type": "execute_result"
    }
   ],
   "source": [
    "model.fit(xtrain, ytrain, epochs= 10)"
   ]
  },
  {
   "cell_type": "code",
   "execution_count": 76,
   "id": "39c80d1e-3c7f-40b1-b2a3-8168a9a23efa",
   "metadata": {},
   "outputs": [],
   "source": [
    "HP_hidden_1 = 512\n",
    "\n",
    "l1 = keras.layers.Flatten(input_shape = (28,28))\n",
    "\n",
    "l2 = keras.layers.Dense(HP_hidden_1, activation = tf.nn.relu)\n",
    "\n",
    "l3 = keras.layers.Dense(10, activation = tf.nn.softmax)"
   ]
  },
  {
   "cell_type": "code",
   "execution_count": 77,
   "id": "65e86bff-1d83-40dc-a259-ed6c3f5810f2",
   "metadata": {},
   "outputs": [],
   "source": [
    "m2 = keras.Sequential([l1,l2,l3])"
   ]
  },
  {
   "cell_type": "code",
   "execution_count": 78,
   "id": "bc38bbbe-63b5-4c10-b28f-f5e51db4d373",
   "metadata": {},
   "outputs": [],
   "source": [
    "m2.compile(loss=myloss, optimizer=myopt, metrics=['acc']) "
   ]
  },
  {
   "cell_type": "code",
   "execution_count": 79,
   "id": "6fee8765-6dd9-465a-abd2-c8ebcdcd5cca",
   "metadata": {},
   "outputs": [
    {
     "name": "stdout",
     "output_type": "stream",
     "text": [
      "Epoch 1/10\n",
      "600/600 [==============================] - 3s 5ms/step - loss: 0.4936 - acc: 0.8266\n",
      "Epoch 2/10\n",
      "600/600 [==============================] - 3s 5ms/step - loss: 0.3674 - acc: 0.8687\n",
      "Epoch 3/10\n",
      "600/600 [==============================] - 3s 5ms/step - loss: 0.3295 - acc: 0.8796\n",
      "Epoch 4/10\n",
      "600/600 [==============================] - 3s 5ms/step - loss: 0.3020 - acc: 0.8895\n",
      "Epoch 5/10\n",
      "600/600 [==============================] - 3s 5ms/step - loss: 0.2849 - acc: 0.8943\n",
      "Epoch 6/10\n",
      "600/600 [==============================] - 3s 5ms/step - loss: 0.2688 - acc: 0.9007\n",
      "Epoch 7/10\n",
      "600/600 [==============================] - 3s 5ms/step - loss: 0.2554 - acc: 0.9045\n",
      "Epoch 8/10\n",
      "600/600 [==============================] - 3s 5ms/step - loss: 0.2422 - acc: 0.9099\n",
      "Epoch 9/10\n",
      "600/600 [==============================] - 3s 5ms/step - loss: 0.2339 - acc: 0.9133\n",
      "Epoch 10/10\n",
      "600/600 [==============================] - 3s 5ms/step - loss: 0.2220 - acc: 0.9171\n"
     ]
    },
    {
     "data": {
      "text/plain": [
       "<keras.callbacks.History at 0x7f36370e1820>"
      ]
     },
     "execution_count": 79,
     "metadata": {},
     "output_type": "execute_result"
    }
   ],
   "source": [
    "m2.fit(xtrain, ytrain, epochs=10, batch_size=100)"
   ]
  },
  {
   "cell_type": "code",
   "execution_count": 80,
   "id": "38b4548c-7f63-40cb-8992-cf7477a000d1",
   "metadata": {},
   "outputs": [
    {
     "name": "stdout",
     "output_type": "stream",
     "text": [
      "Epoch 1/10\n",
      "600/600 [==============================] - 3s 5ms/step - loss: 0.2140 - acc: 0.9200\n",
      "Epoch 2/10\n",
      "600/600 [==============================] - 3s 5ms/step - loss: 0.2091 - acc: 0.9207\n",
      "Epoch 3/10\n",
      "600/600 [==============================] - 3s 5ms/step - loss: 0.1991 - acc: 0.9269\n",
      "Epoch 4/10\n",
      "600/600 [==============================] - 3s 5ms/step - loss: 0.1911 - acc: 0.9291\n",
      "Epoch 5/10\n",
      "600/600 [==============================] - 3s 6ms/step - loss: 0.1858 - acc: 0.9311\n",
      "Epoch 6/10\n",
      "600/600 [==============================] - 3s 5ms/step - loss: 0.1782 - acc: 0.9336\n",
      "Epoch 7/10\n",
      "600/600 [==============================] - 4s 6ms/step - loss: 0.1696 - acc: 0.9359\n",
      "Epoch 8/10\n",
      "600/600 [==============================] - 3s 6ms/step - loss: 0.1659 - acc: 0.9382\n",
      "Epoch 9/10\n",
      "600/600 [==============================] - 3s 5ms/step - loss: 0.1592 - acc: 0.9404\n",
      "Epoch 10/10\n",
      "600/600 [==============================] - 3s 5ms/step - loss: 0.1563 - acc: 0.9413\n"
     ]
    },
    {
     "data": {
      "text/plain": [
       "<keras.callbacks.History at 0x7f36367e2190>"
      ]
     },
     "execution_count": 80,
     "metadata": {},
     "output_type": "execute_result"
    }
   ],
   "source": [
    "# if you fit a model again without compiling it, then it DOES NOT start from scratch,\n",
    "# it starts from where it left learning \n",
    "\n",
    "m2.fit(xtrain, ytrain, epochs=10, batch_size=100)"
   ]
  },
  {
   "cell_type": "code",
   "execution_count": 81,
   "id": "f544396b-929d-4544-aecb-e084daa2579f",
   "metadata": {},
   "outputs": [
    {
     "name": "stdout",
     "output_type": "stream",
     "text": [
      "Epoch 1/10\n",
      "600/600 [==============================] - 3s 5ms/step - loss: 0.1498 - acc: 0.9449\n",
      "Epoch 2/10\n",
      "600/600 [==============================] - 3s 5ms/step - loss: 0.1462 - acc: 0.9456\n",
      "Epoch 3/10\n",
      "600/600 [==============================] - 3s 5ms/step - loss: 0.1383 - acc: 0.9491\n",
      "Epoch 4/10\n",
      "600/600 [==============================] - 3s 5ms/step - loss: 0.1361 - acc: 0.9496\n",
      "Epoch 5/10\n",
      "600/600 [==============================] - 3s 5ms/step - loss: 0.1302 - acc: 0.9516\n",
      "Epoch 6/10\n",
      "600/600 [==============================] - 3s 5ms/step - loss: 0.1291 - acc: 0.9509\n",
      "Epoch 7/10\n",
      "600/600 [==============================] - 3s 5ms/step - loss: 0.1255 - acc: 0.9524\n",
      "Epoch 8/10\n",
      "600/600 [==============================] - 3s 5ms/step - loss: 0.1231 - acc: 0.9539\n",
      "Epoch 9/10\n",
      "600/600 [==============================] - 3s 5ms/step - loss: 0.1172 - acc: 0.9565\n",
      "Epoch 10/10\n",
      "600/600 [==============================] - 3s 5ms/step - loss: 0.1144 - acc: 0.9573\n"
     ]
    },
    {
     "data": {
      "text/plain": [
       "<keras.callbacks.History at 0x7f3637079a30>"
      ]
     },
     "execution_count": 81,
     "metadata": {},
     "output_type": "execute_result"
    }
   ],
   "source": [
    "m2.fit(xtrain, ytrain, epochs=10, batch_size=100)"
   ]
  },
  {
   "cell_type": "code",
   "execution_count": 87,
   "id": "d615ca17-f198-41f8-b7d7-85afbdc940ae",
   "metadata": {},
   "outputs": [
    {
     "name": "stdout",
     "output_type": "stream",
     "text": [
      "313/313 [==============================] - 1s 2ms/step\n"
     ]
    }
   ],
   "source": [
    "# TESTING (SCORING) with UNKNOWN DATA\n",
    "\n",
    "p1 = model.predict(xtest) "
   ]
  },
  {
   "cell_type": "code",
   "execution_count": 88,
   "id": "17621e9a-e637-41d8-885a-a2d2ffe2eea3",
   "metadata": {},
   "outputs": [
    {
     "data": {
      "text/plain": [
       "array([[ -25.038849, -148.6045  ,  -25.160198, -114.93424 ,  -35.616547,\n",
       "         -60.800983,  -16.667385,  -35.03512 ,  -34.439495,  -41.94898 ],\n",
       "       [ -74.57094 , -475.8708  ,  -82.48005 , -336.55215 , -103.72089 ,\n",
       "        -164.90067 ,  -46.42682 , -104.31072 , -131.95872 , -126.89513 ],\n",
       "       [ -47.254143,  -88.10941 ,  -20.051794,  -68.96282 ,  -33.496708,\n",
       "         -44.638298,  -24.233877,  -42.14354 , -121.23691 ,  -27.72861 ],\n",
       "       [ -32.90917 ,  -73.8849  ,  -15.405669,  -48.409588,  -24.430922,\n",
       "         -33.955173,  -17.257652,  -30.597515,  -88.683846,  -22.050865],\n",
       "       [ -47.827602, -269.30356 ,  -47.157646, -191.5812  ,  -60.43082 ,\n",
       "         -95.7363  ,  -30.487873,  -63.62789 ,  -84.37929 ,  -72.82483 ]],\n",
       "      dtype=float32)"
      ]
     },
     "execution_count": 88,
     "metadata": {},
     "output_type": "execute_result"
    }
   ],
   "source": [
    "p1[:5]"
   ]
  },
  {
   "cell_type": "code",
   "execution_count": 90,
   "id": "49ffff11-67c0-48bb-b42e-e6b1eff15bcc",
   "metadata": {},
   "outputs": [
    {
     "data": {
      "text/plain": [
       "6"
      ]
     },
     "execution_count": 90,
     "metadata": {},
     "output_type": "execute_result"
    }
   ],
   "source": [
    "import numpy as np\n",
    "np.argmax(p1[0]) # INDEX of largest element inside"
   ]
  },
  {
   "cell_type": "code",
   "execution_count": 84,
   "id": "26e7d5f1-01f8-45de-80fd-828d0095ed00",
   "metadata": {},
   "outputs": [
    {
     "name": "stdout",
     "output_type": "stream",
     "text": [
      "313/313 [==============================] - 1s 2ms/step\n"
     ]
    },
    {
     "data": {
      "text/plain": [
       "array([[7.6571292e-09, 6.1725392e-13, 2.1295707e-13, 2.9554615e-16,\n",
       "        2.7773882e-13, 1.4158525e-07, 2.3689310e-12, 1.9822470e-05,\n",
       "        4.2251701e-12, 9.9997991e-01],\n",
       "       [3.8441462e-03, 1.7433179e-13, 9.9598283e-01, 1.7053559e-09,\n",
       "        9.0750495e-05, 3.2955900e-13, 8.2439175e-05, 5.7740056e-18,\n",
       "        5.8849306e-12, 3.7066959e-13],\n",
       "       [4.4457174e-19, 9.9999994e-01, 3.7801925e-26, 7.8088791e-19,\n",
       "        6.8974882e-20, 2.9821921e-23, 6.7913591e-19, 1.9742657e-34,\n",
       "        1.9943750e-22, 5.7397817e-30],\n",
       "       [3.3569769e-14, 9.9999994e-01, 4.9234204e-19, 1.6158535e-09,\n",
       "        3.4569111e-15, 5.1883614e-18, 3.8152473e-13, 3.4998887e-30,\n",
       "        3.7848538e-18, 1.2057922e-24],\n",
       "       [2.1626335e-01, 2.5694322e-09, 4.0899380e-05, 2.8910679e-05,\n",
       "        6.5787726e-06, 2.2394943e-07, 7.8366005e-01, 6.4969670e-09,\n",
       "        3.8640208e-10, 3.4251435e-09]], dtype=float32)"
      ]
     },
     "execution_count": 84,
     "metadata": {},
     "output_type": "execute_result"
    }
   ],
   "source": [
    "p2 = m2.predict(xtest) \n",
    "p2[:5]"
   ]
  },
  {
   "cell_type": "code",
   "execution_count": 91,
   "id": "ef63b137-2a55-404a-b6fe-4e8922cb110e",
   "metadata": {},
   "outputs": [
    {
     "data": {
      "text/plain": [
       "9"
      ]
     },
     "execution_count": 91,
     "metadata": {},
     "output_type": "execute_result"
    }
   ],
   "source": [
    "np.argmax(p2[0])"
   ]
  },
  {
   "cell_type": "code",
   "execution_count": 85,
   "id": "746fcad1-58ea-4c2b-aa56-f7682951d96b",
   "metadata": {},
   "outputs": [
    {
     "data": {
      "text/plain": [
       "array([9, 2, 1, 1, 6], dtype=uint8)"
      ]
     },
     "execution_count": 85,
     "metadata": {},
     "output_type": "execute_result"
    }
   ],
   "source": [
    "ytest[:5]"
   ]
  },
  {
   "cell_type": "code",
   "execution_count": 92,
   "id": "3f41b6f0-f3fa-4ac5-abdf-d9c291326e96",
   "metadata": {},
   "outputs": [
    {
     "data": {
      "text/plain": [
       "[9, 2, 1, 1, 6, 1, 4, 6, 5, 7]"
      ]
     },
     "execution_count": 92,
     "metadata": {},
     "output_type": "execute_result"
    }
   ],
   "source": [
    "results = [ np.argmax(res) for res in p2]\n",
    "results[:10]"
   ]
  },
  {
   "cell_type": "code",
   "execution_count": 93,
   "id": "abee2796-6bb5-4bbe-a5bb-f0e244b382d3",
   "metadata": {},
   "outputs": [
    {
     "data": {
      "text/plain": [
       "array([9, 2, 1, 1, 6, 1, 4, 6, 5, 7], dtype=uint8)"
      ]
     },
     "execution_count": 93,
     "metadata": {},
     "output_type": "execute_result"
    }
   ],
   "source": [
    "ytest[:10]"
   ]
  },
  {
   "cell_type": "code",
   "execution_count": 96,
   "id": "e1d7bc19-a809-47f4-b6a7-dd3107c82a60",
   "metadata": {},
   "outputs": [
    {
     "data": {
      "text/plain": [
       "0.8959"
      ]
     },
     "execution_count": 96,
     "metadata": {},
     "output_type": "execute_result"
    }
   ],
   "source": [
    "from sklearn.metrics import accuracy_score\n",
    "accuracy_score(results, ytest)"
   ]
  },
  {
   "cell_type": "code",
   "execution_count": 98,
   "id": "95eb5b39-73bf-49ae-b7df-6a78e0dd1e6d",
   "metadata": {},
   "outputs": [
    {
     "name": "stdout",
     "output_type": "stream",
     "text": [
      "1875/1875 [==============================] - 4s 2ms/step\n"
     ]
    },
    {
     "data": {
      "text/plain": [
       "0.9628666666666666"
      ]
     },
     "execution_count": 98,
     "metadata": {},
     "output_type": "execute_result"
    }
   ],
   "source": [
    "# compare against KNOWN values to detect if there is any overfitting \n",
    "known_results = m2.predict(xtrain)\n",
    "r2 = [np.argmax(res) for res in known_results] \n",
    "accuracy_score(r2, ytrain)"
   ]
  },
  {
   "cell_type": "code",
   "execution_count": null,
   "id": "4ed1f5a1-4658-4265-9039-4affdf14cca2",
   "metadata": {},
   "outputs": [],
   "source": [
    "# OVERFITTING -> training metrics are great; but scoring metrics are POOR!\n",
    "\n",
    "# UNDERFITTING-> both training and scoring metrics are POOR! "
   ]
  },
  {
   "cell_type": "code",
   "execution_count": 99,
   "id": "a5b92352-cbbc-4443-8d99-ef182f3928d1",
   "metadata": {},
   "outputs": [],
   "source": [
    "# to fix overfitting, we apply regularization techniques \n",
    "\n",
    "# Data augmentation \n",
    "# L1/L2/L1_L2 (Ridge and Lasso) -> tiny penalties that are added to weights and bias to fluctuate them and avoid same answer again and again!\n",
    "# dropout -> less the model knows, more the model knows!\n",
    "\n",
    "# face-> facial recognition training\n",
    "# dropout-> every step-> random points from input will be multiplied to 0!!!\n",
    "# as a result-> for some random features, I may not learn ANYTHING! but for the others-> learn very precisely!\n",
    "\n",
    "# with droput, instead of learning on my face directly, model will learn of faces with missing features (eyes, nose, random eyebrows...)\n",
    "# after training-> even if it sees a partial portion of face, it knows its ME!\n",
    "# wearing glasses, long beard, facial features changed-> even then the model will be able to detect faces!!!!"
   ]
  },
  {
   "cell_type": "code",
   "execution_count": 106,
   "id": "e6992eb8-e69e-4ad6-a2b5-c92a6cf4c9f9",
   "metadata": {},
   "outputs": [],
   "source": [
    "HP_hidden_1 = 128\n",
    "HP_hidden_2 = 256\n",
    "\n",
    "l1 = keras.layers.Flatten(input_shape = (28,28))\n",
    "\n",
    "l2 = keras.layers.Dense(HP_hidden_1, activation = tf.nn.relu, kernel_regularizer= 'l1')\n",
    "\n",
    "l3 = keras.layers.Dropout(0.2)\n",
    "\n",
    "l4 = keras.layers.Dense(HP_hidden_2, activation = tf.nn.relu, kernel_regularizer= 'l1')\n",
    "\n",
    "l5 = keras.layers.Dense(10, activation = tf.nn.softmax)\n",
    "\n",
    "m3 = keras.Sequential([l1,l2,l3,l4,l5])"
   ]
  },
  {
   "cell_type": "code",
   "execution_count": 107,
   "id": "e9ab6748-5d39-4a20-86f5-172cd937af4f",
   "metadata": {},
   "outputs": [
    {
     "name": "stdout",
     "output_type": "stream",
     "text": [
      "Epoch 1/50\n",
      "600/600 [==============================] - 3s 4ms/step - loss: 5.4727 - acc: 0.5289\n",
      "Epoch 2/50\n",
      "600/600 [==============================] - 2s 4ms/step - loss: 1.6739 - acc: 0.5957\n",
      "Epoch 3/50\n",
      "600/600 [==============================] - 2s 4ms/step - loss: 1.5931 - acc: 0.6135\n",
      "Epoch 4/50\n",
      "600/600 [==============================] - 2s 4ms/step - loss: 1.5355 - acc: 0.6269\n",
      "Epoch 5/50\n",
      "600/600 [==============================] - 2s 4ms/step - loss: 1.5022 - acc: 0.6402\n",
      "Epoch 6/50\n",
      "600/600 [==============================] - 2s 4ms/step - loss: 1.4793 - acc: 0.6452\n",
      "Epoch 7/50\n",
      "600/600 [==============================] - 2s 4ms/step - loss: 1.4582 - acc: 0.6502\n",
      "Epoch 8/50\n",
      "600/600 [==============================] - 2s 4ms/step - loss: 1.4436 - acc: 0.6532\n",
      "Epoch 9/50\n",
      "600/600 [==============================] - 2s 4ms/step - loss: 1.4273 - acc: 0.6587\n",
      "Epoch 10/50\n",
      "600/600 [==============================] - 2s 4ms/step - loss: 1.4148 - acc: 0.6631\n",
      "Epoch 11/50\n",
      "600/600 [==============================] - 2s 4ms/step - loss: 1.4041 - acc: 0.6675\n",
      "Epoch 12/50\n",
      "600/600 [==============================] - 2s 4ms/step - loss: 1.3924 - acc: 0.6680\n",
      "Epoch 13/50\n",
      "600/600 [==============================] - 2s 4ms/step - loss: 1.3794 - acc: 0.6736\n",
      "Epoch 14/50\n",
      "600/600 [==============================] - 2s 4ms/step - loss: 1.3722 - acc: 0.6728\n",
      "Epoch 15/50\n",
      "600/600 [==============================] - 2s 4ms/step - loss: 1.3658 - acc: 0.6758\n",
      "Epoch 16/50\n",
      "600/600 [==============================] - 2s 4ms/step - loss: 1.3586 - acc: 0.6783\n",
      "Epoch 17/50\n",
      "600/600 [==============================] - 2s 4ms/step - loss: 1.3447 - acc: 0.6819\n",
      "Epoch 18/50\n",
      "600/600 [==============================] - 2s 4ms/step - loss: 1.3432 - acc: 0.6839\n",
      "Epoch 19/50\n",
      "600/600 [==============================] - 2s 4ms/step - loss: 1.3355 - acc: 0.6858\n",
      "Epoch 20/50\n",
      "600/600 [==============================] - 2s 4ms/step - loss: 1.3302 - acc: 0.6849\n",
      "Epoch 21/50\n",
      "600/600 [==============================] - 2s 4ms/step - loss: 1.3308 - acc: 0.6853\n",
      "Epoch 22/50\n",
      "600/600 [==============================] - 2s 4ms/step - loss: 1.3170 - acc: 0.6894\n",
      "Epoch 23/50\n",
      "600/600 [==============================] - 3s 5ms/step - loss: 1.3191 - acc: 0.6877\n",
      "Epoch 24/50\n",
      "600/600 [==============================] - 3s 5ms/step - loss: 1.3174 - acc: 0.6892\n",
      "Epoch 25/50\n",
      "600/600 [==============================] - 3s 5ms/step - loss: 1.3077 - acc: 0.6901\n",
      "Epoch 26/50\n",
      "600/600 [==============================] - 3s 5ms/step - loss: 1.3119 - acc: 0.6892\n",
      "Epoch 27/50\n",
      "600/600 [==============================] - 3s 5ms/step - loss: 1.3019 - acc: 0.6934\n",
      "Epoch 28/50\n",
      "600/600 [==============================] - 3s 5ms/step - loss: 1.3104 - acc: 0.6904\n",
      "Epoch 29/50\n",
      "600/600 [==============================] - 3s 5ms/step - loss: 1.2997 - acc: 0.6931\n",
      "Epoch 30/50\n",
      "600/600 [==============================] - 2s 4ms/step - loss: 1.2963 - acc: 0.6937\n",
      "Epoch 31/50\n",
      "600/600 [==============================] - 2s 4ms/step - loss: 1.2928 - acc: 0.6926\n",
      "Epoch 32/50\n",
      "600/600 [==============================] - 2s 4ms/step - loss: 1.2966 - acc: 0.6928\n",
      "Epoch 33/50\n",
      "600/600 [==============================] - 2s 4ms/step - loss: 1.2910 - acc: 0.6956\n",
      "Epoch 34/50\n",
      "600/600 [==============================] - 2s 4ms/step - loss: 1.2887 - acc: 0.6957\n",
      "Epoch 35/50\n",
      "600/600 [==============================] - 2s 4ms/step - loss: 1.2857 - acc: 0.6966\n",
      "Epoch 36/50\n",
      "600/600 [==============================] - 2s 4ms/step - loss: 1.2877 - acc: 0.6941\n",
      "Epoch 37/50\n",
      "600/600 [==============================] - 2s 4ms/step - loss: 1.2847 - acc: 0.6938\n",
      "Epoch 38/50\n",
      "600/600 [==============================] - 2s 4ms/step - loss: 1.2892 - acc: 0.6940\n",
      "Epoch 39/50\n",
      "600/600 [==============================] - 2s 4ms/step - loss: 1.2814 - acc: 0.6970\n",
      "Epoch 40/50\n",
      "600/600 [==============================] - 2s 4ms/step - loss: 1.2793 - acc: 0.6949\n",
      "Epoch 41/50\n",
      "600/600 [==============================] - 2s 4ms/step - loss: 1.2772 - acc: 0.6962\n",
      "Epoch 42/50\n",
      "600/600 [==============================] - 2s 4ms/step - loss: 1.2720 - acc: 0.6993\n",
      "Epoch 43/50\n",
      "600/600 [==============================] - 2s 4ms/step - loss: 1.2742 - acc: 0.6984\n",
      "Epoch 44/50\n",
      "600/600 [==============================] - 2s 4ms/step - loss: 1.2724 - acc: 0.6976\n",
      "Epoch 45/50\n",
      "600/600 [==============================] - 2s 4ms/step - loss: 1.2687 - acc: 0.6984\n",
      "Epoch 46/50\n",
      "600/600 [==============================] - 2s 4ms/step - loss: 1.2655 - acc: 0.6999\n",
      "Epoch 47/50\n",
      "600/600 [==============================] - 2s 4ms/step - loss: 1.2702 - acc: 0.6986\n",
      "Epoch 48/50\n",
      "600/600 [==============================] - 2s 4ms/step - loss: 1.2652 - acc: 0.6986\n",
      "Epoch 49/50\n",
      "600/600 [==============================] - 2s 4ms/step - loss: 1.2661 - acc: 0.7020\n",
      "Epoch 50/50\n",
      "600/600 [==============================] - 2s 4ms/step - loss: 1.2623 - acc: 0.7015\n"
     ]
    },
    {
     "data": {
      "text/plain": [
       "<keras.callbacks.History at 0x7f3602a6f0a0>"
      ]
     },
     "execution_count": 107,
     "metadata": {},
     "output_type": "execute_result"
    }
   ],
   "source": [
    "m3.compile(loss=myloss, optimizer=myopt, metrics=['acc']) \n",
    "m3.fit(xtrain, ytrain, epochs=50, batch_size=100)"
   ]
  },
  {
   "cell_type": "code",
   "execution_count": 108,
   "id": "8ed770e3-f2f5-487c-a26c-c26a8ef1dd9e",
   "metadata": {},
   "outputs": [
    {
     "name": "stdout",
     "output_type": "stream",
     "text": [
      "1875/1875 [==============================] - 3s 1ms/step\n",
      "313/313 [==============================] - 1s 2ms/step\n"
     ]
    }
   ],
   "source": [
    "ptrain = m3.predict(xtrain)\n",
    "ptest = m3.predict(xtest)"
   ]
  },
  {
   "cell_type": "code",
   "execution_count": 109,
   "id": "cbac5474-add8-4c27-8cdb-5deeda027dcd",
   "metadata": {},
   "outputs": [],
   "source": [
    "ptrain = [ np.argmax(res) for res in ptrain]\n",
    "ptest = [ np.argmax(res) for res in ptest]"
   ]
  },
  {
   "cell_type": "code",
   "execution_count": 110,
   "id": "38adf13e-1aa5-473b-9e89-3523d5529cb1",
   "metadata": {},
   "outputs": [
    {
     "data": {
      "text/plain": [
       "0.7481"
      ]
     },
     "execution_count": 110,
     "metadata": {},
     "output_type": "execute_result"
    }
   ],
   "source": [
    "accuracy_score(ptrain, ytrain)"
   ]
  },
  {
   "cell_type": "code",
   "execution_count": 111,
   "id": "f82e6913-df53-4b6e-9e9b-9cb28cf7b20b",
   "metadata": {},
   "outputs": [
    {
     "data": {
      "text/plain": [
       "0.7454"
      ]
     },
     "execution_count": 111,
     "metadata": {},
     "output_type": "execute_result"
    }
   ],
   "source": [
    "accuracy_score(ptest, ytest)"
   ]
  },
  {
   "cell_type": "code",
   "execution_count": null,
   "id": "77767d50-b28b-403c-9af8-412006cdc82f",
   "metadata": {},
   "outputs": [],
   "source": []
  }
 ],
 "metadata": {
  "kernelspec": {
   "display_name": "Python 3.8 - Pytorch and Tensorflow",
   "language": "python",
   "name": "python38-azureml-pt-tf"
  },
  "language_info": {
   "codemirror_mode": {
    "name": "ipython",
    "version": 3
   },
   "file_extension": ".py",
   "mimetype": "text/x-python",
   "name": "python",
   "nbconvert_exporter": "python",
   "pygments_lexer": "ipython3",
   "version": "3.8.5"
  }
 },
 "nbformat": 4,
 "nbformat_minor": 5
}
