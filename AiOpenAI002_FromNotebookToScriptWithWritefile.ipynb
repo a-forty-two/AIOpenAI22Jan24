{
  "nbformat": 4,
  "nbformat_minor": 0,
  "metadata": {
    "colab": {
      "provenance": [],
      "authorship_tag": "ABX9TyPdsnVH5CzIp1llcCfrIm0j",
      "include_colab_link": true
    },
    "kernelspec": {
      "name": "python3",
      "display_name": "Python 3"
    },
    "language_info": {
      "name": "python"
    }
  },
  "cells": [
    {
      "cell_type": "markdown",
      "metadata": {
        "id": "view-in-github",
        "colab_type": "text"
      },
      "source": [
        "<a href=\"https://colab.research.google.com/github/a-forty-two/AIOpenAI22Jan24/blob/main/AiOpenAI002_FromNotebookToScriptWithWritefile.ipynb\" target=\"_parent\"><img src=\"https://colab.research.google.com/assets/colab-badge.svg\" alt=\"Open In Colab\"/></a>"
      ]
    },
    {
      "cell_type": "markdown",
      "source": [
        "In this notebook-> we have posted a lot of comments as well as experimentation! When we are running this for production env, we want only useful blocks from this code!\n",
        "\n",
        "How do we extract our script from a notebook?"
      ],
      "metadata": {
        "id": "G2OlvGxs7QxC"
      }
    },
    {
      "cell_type": "markdown",
      "source": [
        "%% => magic functions\n",
        "\n",
        "magic function declaration needs to be only on the 1st LINE of the cell!\n",
        "\n",
        "terminal execution instead of python execution\n"
      ],
      "metadata": {
        "id": "gUByAUkz7chV"
      }
    },
    {
      "cell_type": "code",
      "execution_count": 1,
      "metadata": {
        "id": "NnT9lVsby25l"
      },
      "outputs": [],
      "source": [
        "# lambda operations-> 1 line EXECUTION ONLY!\n",
        "# advantage->\n",
        "# program-> a function call is a memory jump-> control\n",
        "# flows to a function location -> fn is executed-> control\n",
        "# flows back to the main or caller thread!\n",
        "# TIME IS SPENT BACK AND FORTH!\n",
        "\n",
        "# FUNCTION CALL-> avoid jumping altogether!\n",
        "# Disadvantage-> avoid jumping requires that only 1\n",
        "# address be invoked in the limited address space!\n"
      ]
    },
    {
      "cell_type": "markdown",
      "source": [
        "I don't want anything from this block either!"
      ],
      "metadata": {
        "id": "jfoAixD-7qwj"
      }
    },
    {
      "cell_type": "code",
      "source": [
        "# syntax:  output = lambda input: what_to_do_with_input\n",
        "\n",
        "adder = lambda num : num + 1\n",
        "adder(41)"
      ],
      "metadata": {
        "colab": {
          "base_uri": "https://localhost:8080/"
        },
        "id": "BBaoGpaRzYqn",
        "outputId": "e1f52f7b-819e-45c2-81b3-44bb4ab26ee7"
      },
      "execution_count": 2,
      "outputs": [
        {
          "output_type": "execute_result",
          "data": {
            "text/plain": [
              "42"
            ]
          },
          "metadata": {},
          "execution_count": 2
        }
      ]
    },
    {
      "cell_type": "code",
      "source": [
        "# mathematical equation:\n",
        "# ax2 + bx + c = y\n",
        "y = lambda a,b,c,x: a*x*x + b*x + c\n",
        "# if a=1, b=2, c= 3, x=5\n",
        "answer = y(1,2,3,5)"
      ],
      "metadata": {
        "id": "YNWVsaYEzmgl"
      },
      "execution_count": 3,
      "outputs": []
    },
    {
      "cell_type": "code",
      "source": [
        "answer"
      ],
      "metadata": {
        "colab": {
          "base_uri": "https://localhost:8080/"
        },
        "id": "idcsxknD0Dbp",
        "outputId": "7c7f1208-15cd-4c5b-8b77-68e4f6c0885f"
      },
      "execution_count": 4,
      "outputs": [
        {
          "output_type": "execute_result",
          "data": {
            "text/plain": [
              "38"
            ]
          },
          "metadata": {},
          "execution_count": 4
        }
      ]
    },
    {
      "cell_type": "markdown",
      "source": [
        "As we use the power function in our program, it may be a good idea to start from here!"
      ],
      "metadata": {
        "id": "shA5V1DA7w39"
      }
    },
    {
      "cell_type": "code",
      "source": [
        "%%writefile script.py\n",
        "\n",
        "def power(n):\n",
        "  return lambda x: x**n\n",
        "\n"
      ],
      "metadata": {
        "colab": {
          "base_uri": "https://localhost:8080/"
        },
        "id": "QD8EHA3w0EMA",
        "outputId": "9c563f13-5966-4910-c27a-1200b35c7cf7"
      },
      "execution_count": 24,
      "outputs": [
        {
          "output_type": "stream",
          "name": "stdout",
          "text": [
            "Overwriting script.py\n"
          ]
        }
      ]
    },
    {
      "cell_type": "code",
      "source": [
        "%%writefile -a script.py\n",
        "square = power(2)   #return -> lambda x : x**2\n",
        "cube = power(3)  #return -> lambda x : x**3\n",
        "quad = power(4)  #return -> lambda x : x**4"
      ],
      "metadata": {
        "colab": {
          "base_uri": "https://localhost:8080/"
        },
        "id": "EOpbkyjn0Wma",
        "outputId": "5cc87b51-c0ce-4cb1-bc72-b9ab643d81e7"
      },
      "execution_count": 25,
      "outputs": [
        {
          "output_type": "stream",
          "name": "stdout",
          "text": [
            "Appending to script.py\n"
          ]
        }
      ]
    },
    {
      "cell_type": "code",
      "source": [
        "%%writefile -a script.py\n",
        "print(square(16))"
      ],
      "metadata": {
        "colab": {
          "base_uri": "https://localhost:8080/"
        },
        "id": "RJn_4oH30aQ_",
        "outputId": "2e3e945f-5345-446a-9163-f0139be40422"
      },
      "execution_count": 26,
      "outputs": [
        {
          "output_type": "stream",
          "name": "stderr",
          "text": [
            "UsageError: Line magic function `%writefile` not found (But cell magic `%%writefile` exists, did you mean that instead?).\n"
          ]
        }
      ]
    },
    {
      "cell_type": "code",
      "source": [
        "%%writefile -a script.py\n",
        "print(cube(5))"
      ],
      "metadata": {
        "colab": {
          "base_uri": "https://localhost:8080/"
        },
        "id": "ktUCoKFh0ioX",
        "outputId": "2cc4ec06-40c4-4484-aedf-ce9d4634cca6"
      },
      "execution_count": 27,
      "outputs": [
        {
          "output_type": "stream",
          "name": "stderr",
          "text": [
            "UsageError: Line magic function `%writefile` not found (But cell magic `%%writefile` exists, did you mean that instead?).\n"
          ]
        }
      ]
    },
    {
      "cell_type": "code",
      "source": [
        "%%writefile -a script.py\n",
        "print(quad(10))"
      ],
      "metadata": {
        "colab": {
          "base_uri": "https://localhost:8080/"
        },
        "id": "_ZytdRPe0jV8",
        "outputId": "4d19cfe6-0369-4125-e376-364a7e8fbb34"
      },
      "execution_count": 30,
      "outputs": [
        {
          "output_type": "stream",
          "name": "stdout",
          "text": [
            "Appending to script.py\n"
          ]
        }
      ]
    },
    {
      "cell_type": "code",
      "source": [
        "# LAMBDAS ALLOWS US MASSIVE CODE REUSABILITY!!!!"
      ],
      "metadata": {
        "id": "nxtH-hCC0kQn"
      },
      "execution_count": null,
      "outputs": []
    },
    {
      "cell_type": "code",
      "source": [
        "# WRITE A LAMBDA TO DETECT POSITIVE/NEG numbers!\n",
        "isPos = lambda x : True if x >0 else False\n",
        "isPos(-22)"
      ],
      "metadata": {
        "id": "V4DFRYzZ0uLi"
      },
      "execution_count": null,
      "outputs": []
    },
    {
      "cell_type": "code",
      "source": [
        "isPos(42)"
      ],
      "metadata": {
        "colab": {
          "base_uri": "https://localhost:8080/"
        },
        "id": "RQ9qQLPc1kSB",
        "outputId": "943ddc42-63bc-4f81-9915-615687b012f2"
      },
      "execution_count": 12,
      "outputs": [
        {
          "output_type": "execute_result",
          "data": {
            "text/plain": [
              "True"
            ]
          },
          "metadata": {},
          "execution_count": 12
        }
      ]
    },
    {
      "cell_type": "code",
      "source": [
        "%%writefile -a script.py\n",
        "diabetes_results = ['D','ND','D','ND','D','D','D']\n",
        "# any kind of analytics or ML-> we only work with nums!\n",
        "# we cannot plot anything else except numbers!\n",
        "\n",
        "logic = lambda result : 1 if result=='D' else 0\n"
      ],
      "metadata": {
        "colab": {
          "base_uri": "https://localhost:8080/"
        },
        "id": "xyjX1pFP1luN",
        "outputId": "ae0abaa2-2703-4efe-a9f5-f9686e54a59b"
      },
      "execution_count": 31,
      "outputs": [
        {
          "output_type": "stream",
          "name": "stdout",
          "text": [
            "Appending to script.py\n"
          ]
        }
      ]
    },
    {
      "cell_type": "code",
      "source": [
        "logic(diabetes_results[-1])"
      ],
      "metadata": {
        "colab": {
          "base_uri": "https://localhost:8080/"
        },
        "id": "W0ISbKLo2AjX",
        "outputId": "15255cea-89c0-477d-8968-714db70df068"
      },
      "execution_count": 16,
      "outputs": [
        {
          "output_type": "execute_result",
          "data": {
            "text/plain": [
              "1"
            ]
          },
          "metadata": {},
          "execution_count": 16
        }
      ]
    },
    {
      "cell_type": "code",
      "source": [
        "encoded_results = []\n",
        "for res in diabetes_results:\n",
        "  encoded_results.append(logic(res))\n",
        "\n",
        "\n",
        "print(diabetes_results)\n",
        "print('--------')\n",
        "print(encoded_results)"
      ],
      "metadata": {
        "colab": {
          "base_uri": "https://localhost:8080/"
        },
        "id": "iMMDhq2n2D5H",
        "outputId": "9cc420dc-db13-4e73-d89c-7d3a2362cca1"
      },
      "execution_count": 18,
      "outputs": [
        {
          "output_type": "stream",
          "name": "stdout",
          "text": [
            "['D', 'ND', 'D', 'ND', 'D', 'D', 'D']\n",
            "--------\n",
            "[1, 0, 1, 0, 1, 1, 1]\n"
          ]
        }
      ]
    },
    {
      "cell_type": "code",
      "source": [
        "# LIST COMPREHENSION\n",
        "# Loop on the list to transform every element\n",
        "\n",
        "lst1 = [1,2,3,4,5,6,7]\n",
        "# wanted to add 1 to all the elements\n",
        "# syntax ->. [ iterator_ops   for iterator in yourlist]\n",
        "\n",
        "newlst = [ element+1 for element in lst1]\n",
        "print(newlst)"
      ],
      "metadata": {
        "colab": {
          "base_uri": "https://localhost:8080/"
        },
        "id": "BInJ4AMT2Xky",
        "outputId": "098eda0c-e2cb-4f84-9b85-2879721e4846"
      },
      "execution_count": 19,
      "outputs": [
        {
          "output_type": "stream",
          "name": "stdout",
          "text": [
            "[2, 3, 4, 5, 6, 7, 8]\n"
          ]
        }
      ]
    },
    {
      "cell_type": "code",
      "source": [
        "%%writefile -a script.py\n",
        "# Combine Lambda and List Comprehension on\n",
        "# diabetes results!\n",
        "enc_res = [ logic(res) for res in diabetes_results]\n",
        "enc_res\n",
        "\n",
        "# One line execution instead of 3 lines\n",
        "\n",
        "# encoded_results = []\n",
        "# for res in diabetes_results:\n",
        "#   encoded_results.append(logic(res))"
      ],
      "metadata": {
        "colab": {
          "base_uri": "https://localhost:8080/"
        },
        "id": "1NTH4xXx26Nc",
        "outputId": "70aa7ae4-a539-4971-ab75-8a6f04be682e"
      },
      "execution_count": 32,
      "outputs": [
        {
          "output_type": "stream",
          "name": "stdout",
          "text": [
            "Appending to script.py\n"
          ]
        }
      ]
    },
    {
      "cell_type": "code",
      "source": [],
      "metadata": {
        "id": "IhBY7UNC3JBo"
      },
      "execution_count": null,
      "outputs": []
    }
  ]
}